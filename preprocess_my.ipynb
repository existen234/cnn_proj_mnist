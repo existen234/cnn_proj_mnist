{
 "cells": [
  {
   "cell_type": "code",
   "execution_count": 1,
   "id": "b6405168",
   "metadata": {},
   "outputs": [
    {
     "name": "stdout",
     "output_type": "stream",
     "text": [
      "/Users/co2ac/Documents/dsp_23may/toGit3\n"
     ]
    }
   ],
   "source": [
    "import os\n",
    "\n",
    "# Get the current working directory\n",
    "cwd = os.getcwd()\n",
    "\n",
    "# Print the current working directory\n",
    "print(cwd)\n"
   ]
  },
  {
   "cell_type": "code",
   "execution_count": 2,
   "id": "29166e08",
   "metadata": {},
   "outputs": [],
   "source": [
    "from PIL import Image\n",
    "import os\n",
    "\n",
    "# Set the path of the folder containing the subfolders\n",
    "folder_path = \"/Users/co2ac/Documents/dsp_23may/mts_2_twentyEight\"\n",
    "\n",
    "# Set the path of the output folder\n",
    "output_path = \"/Users/co2ac/Documents/dsp_23may\"\n",
    "\n",
    "# Loop through all the subfolders in the folder\n",
    "for subfolder_name in os.listdir(folder_path):\n",
    "    subfolder_path = os.path.join(folder_path, subfolder_name)\n",
    "    \n",
    "    # Check if the subfolder is a directory\n",
    "    if os.path.isdir(subfolder_path):\n",
    "        # Create a new subfolder in the output folder with the same name as the subfolder\n",
    "        output_subfolder_path = os.path.join(output_path, subfolder_name)\n",
    "        os.makedirs(output_subfolder_path, exist_ok=True)\n",
    "        \n",
    "        # Loop through all the images in the subfolder\n",
    "        for filename in os.listdir(subfolder_path):\n",
    "            # Check if the file is an image\n",
    "            if filename.endswith(\".jpg\") or filename.endswith(\".png\") or filename.endswith(\".jpeg\"):\n",
    "                # Open the image\n",
    "                img = Image.open(os.path.join(subfolder_path, filename))\n",
    "\n",
    "                # Resize the image to 28x28\n",
    "                img = img.resize((28, 28))\n",
    "\n",
    "                # Save the resized image to the output subfolder with the same filename\n",
    "                output_filename = os.path.join(output_subfolder_path, filename)\n",
    "                img.save(output_filename)\n"
   ]
  },
  {
   "cell_type": "code",
   "execution_count": 4,
   "id": "e75b014d",
   "metadata": {},
   "outputs": [
    {
     "name": "stdout",
     "output_type": "stream",
     "text": [
      "Verification complete.\n"
     ]
    }
   ],
   "source": [
    "import os\n",
    "from PIL import Image\n",
    "\n",
    "# Set the path of the folder containing the images\n",
    "folder_path = \"/Users/co2ac/Documents/dsp_23may/mts_2_tE_2\"\n",
    "\n",
    "# Loop through all the subfolders in the folder\n",
    "for subfolder_name in os.listdir(folder_path):\n",
    "    # Get the full path of the subfolder\n",
    "    subfolder_path = os.path.join(folder_path, subfolder_name)\n",
    "    # Check if the subfolder is a directory\n",
    "    if os.path.isdir(subfolder_path):\n",
    "        # Loop through all the images in the subfolder\n",
    "        for filename in os.listdir(subfolder_path):\n",
    "            # Check if the file is an image\n",
    "            if filename.endswith(\".jpg\") or filename.endswith(\".png\") or filename.endswith(\".jpeg\"):\n",
    "                # Open the image and convert it to grayscale\n",
    "                img = Image.open(os.path.join(subfolder_path, filename)).convert(\"L\")\n",
    "\n",
    "                # Verify that the image has been resized to 28x28 pixels\n",
    "                width, height = img.size\n",
    "                if width != 28 or height != 28:\n",
    "                    print(f\"{os.path.join(subfolder_path, filename)} is not 28x28 pixels\")\n",
    "\n",
    "print(\"Verification complete.\")\n"
   ]
  }
 ],
 "metadata": {
  "kernelspec": {
   "display_name": "Python 3 (ipykernel)",
   "language": "python",
   "name": "python3"
  },
  "language_info": {
   "codemirror_mode": {
    "name": "ipython",
    "version": 3
   },
   "file_extension": ".py",
   "mimetype": "text/x-python",
   "name": "python",
   "nbconvert_exporter": "python",
   "pygments_lexer": "ipython3",
   "version": "3.9.12"
  }
 },
 "nbformat": 4,
 "nbformat_minor": 5
}
