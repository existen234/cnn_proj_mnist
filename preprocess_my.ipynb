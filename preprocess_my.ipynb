{
 "cells": [
  {
   "cell_type": "code",
   "execution_count": 1,
   "id": "b6405168",
   "metadata": {},
   "outputs": [
    {
     "name": "stdout",
     "output_type": "stream",
     "text": [
      "/Users/co2ac/Documents/dsp_23may/toGit3\n"
     ]
    }
   ],
   "source": [
    "import os\n",
    "\n",
    "# Get the current working directory\n",
    "cwd = os.getcwd()\n",
    "\n",
    "# Print the current working directory\n",
    "print(cwd)\n"
   ]
  },
  {
   "cell_type": "code",
   "execution_count": 2,
   "id": "29166e08",
   "metadata": {},
   "outputs": [],
   "source": [
    "from PIL import Image\n",
    "import os\n",
    "\n",
    "# Set the path of the folder containing the subfolders\n",
    "folder_path = \"/Users/co2ac/Documents/dsp_23may/mts_2_twentyEight\"\n",
    "\n",
    "# Set the path of the output folder\n",
    "output_path = \"/Users/co2ac/Documents/dsp_23may\"\n",
    "\n",
    "# Loop through all the subfolders in the folder\n",
    "for subfolder_name in os.listdir(folder_path):\n",
    "    subfolder_path = os.path.join(folder_path, subfolder_name)\n",
    "    \n",
    "    # Check if the subfolder is a directory\n",
    "    if os.path.isdir(subfolder_path):\n",
    "        # Create a new subfolder in the output folder with the same name as the subfolder\n",
    "        output_subfolder_path = os.path.join(output_path, subfolder_name)\n",
    "        os.makedirs(output_subfolder_path, exist_ok=True)\n",
    "        \n",
    "        # Loop through all the images in the subfolder\n",
    "        for filename in os.listdir(subfolder_path):\n",
    "            # Check if the file is an image\n",
    "            if filename.endswith(\".jpg\") or filename.endswith(\".png\") or filename.endswith(\".jpeg\"):\n",
    "                # Open the image\n",
    "                img = Image.open(os.path.join(subfolder_path, filename))\n",
    "\n",
    "                # Resize the image to 28x28\n",
    "                img = img.resize((28, 28))\n",
    "\n",
    "                # Save the resized image to the output subfolder with the same filename\n",
    "                output_filename = os.path.join(output_subfolder_path, filename)\n",
    "                img.save(output_filename)\n"
   ]
  },
  {
   "cell_type": "code",
   "execution_count": 4,
   "id": "e75b014d",
   "metadata": {},
   "outputs": [
    {
     "name": "stdout",
     "output_type": "stream",
     "text": [
      "Verification complete.\n"
     ]
    }
   ],
   "source": [
    "import os\n",
    "from PIL import Image\n",
    "\n",
    "# Set the path of the folder containing the images\n",
    "folder_path = \"/Users/co2ac/Documents/dsp_23may/mts_2_tE_2\"\n",
    "\n",
    "# Loop through all the subfolders in the folder\n",
    "for subfolder_name in os.listdir(folder_path):\n",
    "    # Get the full path of the subfolder\n",
    "    subfolder_path = os.path.join(folder_path, subfolder_name)\n",
    "    # Check if the subfolder is a directory\n",
    "    if os.path.isdir(subfolder_path):\n",
    "        # Loop through all the images in the subfolder\n",
    "        for filename in os.listdir(subfolder_path):\n",
    "            # Check if the file is an image\n",
    "            if filename.endswith(\".jpg\") or filename.endswith(\".png\") or filename.endswith(\".jpeg\"):\n",
    "                # Open the image and convert it to grayscale\n",
    "                img = Image.open(os.path.join(subfolder_path, filename)).convert(\"L\")\n",
    "\n",
    "                # Verify that the image has been resized to 28x28 pixels\n",
    "                width, height = img.size\n",
    "                if width != 28 or height != 28:\n",
    "                    print(f\"{os.path.join(subfolder_path, filename)} is not 28x28 pixels\")\n",
    "\n",
    "print(\"Verification complete.\")\n"
   ]
  },
  {
   "cell_type": "markdown",
   "id": "f524ca77",
   "metadata": {},
   "source": [
    "## Convert into CSV"
   ]
  },
  {
   "cell_type": "code",
   "execution_count": 5,
   "id": "99ec3e74",
   "metadata": {},
   "outputs": [],
   "source": [
    "import pandas as pd\n",
    "import os\n",
    "\n",
    "# Set the path of the folder containing the 10 subfolders\n",
    "folder_path = \"/Users/co2ac/Documents/dsp_23may/mts_2_tE_2\"\n",
    "\n",
    "# Initialize an empty list to store the image data\n",
    "image_data = []\n",
    "\n",
    "# Loop through all the subfolders in the folder\n",
    "for subfolder_name in os.listdir(folder_path):\n",
    "    # Get the full path of the subfolder\n",
    "    subfolder_path = os.path.join(folder_path, subfolder_name)\n",
    "    # Check if the subfolder is a directory\n",
    "    if os.path.isdir(subfolder_path):\n",
    "        # Loop through all the images in the subfolder\n",
    "        for filename in os.listdir(subfolder_path):\n",
    "            # Check if the file is an image\n",
    "            if filename.endswith(\".jpg\") or filename.endswith(\".png\") or filename.endswith(\".jpeg\"):\n",
    "                # Open the image and convert it to grayscale\n",
    "                img = Image.open(os.path.join(subfolder_path, filename)).convert(\"L\")\n",
    "        \n",
    "                # Flatten the image into a 1D array\n",
    "                pixel_values = list(img.getdata())\n",
    "                \n",
    "                # Add the flattened image and its class to the image data list\n",
    "                image_data.append(pixel_values + [subfolder_name])\n",
    "\n",
    "# Convert the image data list into a pandas DataFrame and save it to a CSV file\n",
    "df = pd.DataFrame(image_data)\n",
    "df.to_csv(\"output3.csv\", index=False, header=False)\n",
    "\n"
   ]
  },
  {
   "cell_type": "markdown",
   "id": "bd38506f",
   "metadata": {},
   "source": [
    "## Deployment of model on preprocessed data"
   ]
  },
  {
   "cell_type": "code",
   "execution_count": null,
   "id": "84b49578",
   "metadata": {},
   "outputs": [],
   "source": [
    "import pandas as pd\n",
    "import numpy as np\n",
    "from tensorflow.keras.preprocessing.image import ImageDataGenerator\n",
    "\n",
    "# Load the CSV file into a pandas DataFrame\n",
    "df = pd.read_csv(\"output.csv\", header=None)\n",
    "\n",
    "# Split the DataFrame into input (pixel values) and output (class labels)\n",
    "X = df.iloc[:, :-1].values.astype(np.float32)\n",
    "y = df.iloc[:, -1].values.astype(np.float32)\n",
    "\n",
    "# Reshape the input data to 28x28 pixels\n",
    "X = X.reshape(-1, 28, 28, 1)\n",
    "\n",
    "# Define an ImageDataGenerator object to augment and preprocess the data\n",
    "datagen = ImageDataGenerator(\n",
    "    rotation_range=10,\n",
    "    zoom_range=0.1,\n",
    "    width_shift_range=0.1,\n",
    "    height_shift_range=0.1,\n",
    "    horizontal_flip=False,\n",
    "    vertical_flip=False,\n",
    "    rescale=1./255,\n",
    ")\n",
    "\n",
    "# Use the ImageDataGenerator to load the data in batches\n",
    "batch_size = 32\n",
    "train_iterator = datagen.flow(\n",
    "    X, y, batch_size=batch_size, shuffle=True\n",
    ")\n",
    "\n",
    "# Train your CNN model using the train_iterator\n",
    "model.fit(train_iterator, epochs=10, steps_per_epoch=len(X) // batch_size)\n"
   ]
  }
 ],
 "metadata": {
  "kernelspec": {
   "display_name": "Python 3 (ipykernel)",
   "language": "python",
   "name": "python3"
  },
  "language_info": {
   "codemirror_mode": {
    "name": "ipython",
    "version": 3
   },
   "file_extension": ".py",
   "mimetype": "text/x-python",
   "name": "python",
   "nbconvert_exporter": "python",
   "pygments_lexer": "ipython3",
   "version": "3.9.12"
  }
 },
 "nbformat": 4,
 "nbformat_minor": 5
}
