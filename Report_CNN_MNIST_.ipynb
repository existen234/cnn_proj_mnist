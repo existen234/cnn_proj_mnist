{
  "cells": [
    {
      "cell_type": "markdown",
      "metadata": {
        "id": "view-in-github",
        "colab_type": "text"
      },
      "source": [
        "<a href=\"https://colab.research.google.com/github/existen234/cnn_proj_mnist/blob/main/Report_CNN_MNIST_.ipynb\" target=\"_parent\"><img src=\"https://colab.research.google.com/assets/colab-badge.svg\" alt=\"Open In Colab\"/></a>"
      ]
    },
    {
      "cell_type": "markdown",
      "metadata": {
        "id": "SKWcOGHNrtZ2"
      },
      "source": [
        "# Image Classification Using CNN: A Case Study on the MNIST Dataset\n",
        "\n",
        "\n"
      ]
    },
    {
      "cell_type": "markdown",
      "source": [
        "Three Convolutional Neural Network(CNN) is studied in this report with the use of MNIST dataset , which is a dataset for handwritten digit (0 to 9). In my initial project proposal, I attempted to do object detection with a drone, but given the constraint of time and the work will take, I have relocated the project of interest into similar field of computer vision. MNIST dataset is easy to import and a standardized dataset. Therefore, it is an ideal dataset for me as beginner to land on the computer vision field.\n",
        "\n",
        "The new hypothesis of my project is to be building CNN models from MNIST and studying effect of some hyperparameters tuning in the CNN architecture and training process. The CNN architectures employed in this report start with the most standard one, using ReLU in hidden layers and softmax in the fully connected layers. Then, the second model would use tanh as activation function in the hidden layers. Lastly, the third model, I would append drop out layer on top of the first model. Initially, I expected most accurate evaluation on the third model since fitting problem is promised to be addressed with the help of dropout layer. Nevertheless, the first model with the most stardard and popular architecture, has the best evaluation performance on my custom dataset(after I appended my custom dataset into MNIST dataset and trained the model together), which implies that the first model generalises better predictions when unseen records is fed in.\n",
        "\n",
        "Link to github repository: https://github.com/existen234/cnn_proj_mnist.git\n",
        "\n",
        "Link to Youtube: https://www.youtube.com/watch?v=arvE7h_-22Y\n",
        "\n"
      ],
      "metadata": {
        "id": "1_pr1P5U-R6V"
      }
    },
    {
      "cell_type": "markdown",
      "source": [
        "# Data Source and Preprocessing"
      ],
      "metadata": {
        "id": "7aZgoesY-rmm"
      }
    },
    {
      "cell_type": "code",
      "execution_count": 101,
      "metadata": {
        "id": "hkWp4edNIvzG"
      },
      "outputs": [],
      "source": [
        "import numpy as np\n",
        "import pandas as pd\n",
        "import keras\n",
        "from keras. utils import np_utils\n",
        "import tensorflow as tf\n",
        "import matplotlib.pyplot as plt\n",
        "from PIL import Image"
      ]
    },
    {
      "cell_type": "code",
      "execution_count": 102,
      "metadata": {
        "id": "MEcYtVdxJJCG"
      },
      "outputs": [],
      "source": [
        "# import mnist dataset \n",
        "(X_train, y_train), (X_test,y_test)=tf.keras.datasets.mnist.load_data()"
      ]
    },
    {
      "cell_type": "code",
      "execution_count": 103,
      "metadata": {
        "id": "-G__SotVJolu"
      },
      "outputs": [],
      "source": [
        "# normalize X\n",
        "X_train=X_train/255\n",
        "X_test=X_test/255\n",
        "\n",
        "# append color dimenstion\n",
        "X_train4D=X_train.reshape(X_train.shape[0],28,28,1).astype('float32')\n",
        "X_test4D=X_test.reshape(X_test.shape[0],28,28,1).astype('float32')\n",
        "\n",
        "# onehot encoding on the category\n",
        "y_trainOneHot=np_utils.to_categorical(y_train)\n",
        "y_testOneHot=np_utils.to_categorical(y_test)"
      ]
    },
    {
      "cell_type": "markdown",
      "source": [
        "\n",
        "ReLU is the most popular chocie of activation function in the hidden layers as it speeds up the computation by taking only positive output in the convulutional operation (happen in Conv2D layer).\n",
        "A possible replacement for the activation function in the hidden layer output would be tanh, which I would test later on the second model.\n",
        "\n",
        "MaxPooling layer is a standard implementation in a CNN model, to decrease the data dimension and necessary computations but still capturing the features, which also differentiate a convolutional neural network(CNN) from an artificial neural network(ANN). The latter one fails to posistion invariant feature detection, while CNN model is more tolerant towards variation and distortion of input, such as shifting position from the center to the right. This is due to the combination of convolutional operation and max pooling operation in CNN.\n",
        "\n",
        "In the training process, I used mini batch gradient descent as training method to make the computation more effieicent. Using batch gradient descent alone, without the parameter batch_size, would take longer time to train since the training sample size in this case is 60000. Compromising between computation power and performance of model, mini batch gradient would be an ideal choice to train the models.\n"
      ],
      "metadata": {
        "id": "FoAYX6biO1Qa"
      }
    },
    {
      "cell_type": "code",
      "execution_count": 104,
      "metadata": {
        "colab": {
          "base_uri": "https://localhost:8080/",
          "height": 0
        },
        "id": "ddBrVj1jNNzB",
        "outputId": "6788b27d-480a-478b-bfe5-f9e421a1b59a"
      },
      "outputs": [
        {
          "output_type": "stream",
          "name": "stdout",
          "text": [
            "Epoch 1/5\n",
            "480/480 [==============================] - 5s 5ms/step - loss: 0.2235 - accuracy: 0.9316 - val_loss: 0.0825 - val_accuracy: 0.9768\n",
            "Epoch 2/5\n",
            "480/480 [==============================] - 2s 5ms/step - loss: 0.0607 - accuracy: 0.9815 - val_loss: 0.0538 - val_accuracy: 0.9851\n",
            "Epoch 3/5\n",
            "480/480 [==============================] - 2s 4ms/step - loss: 0.0420 - accuracy: 0.9871 - val_loss: 0.0467 - val_accuracy: 0.9861\n",
            "Epoch 4/5\n",
            "480/480 [==============================] - 2s 4ms/step - loss: 0.0308 - accuracy: 0.9906 - val_loss: 0.0496 - val_accuracy: 0.9862\n",
            "Epoch 5/5\n",
            "480/480 [==============================] - 2s 5ms/step - loss: 0.0261 - accuracy: 0.9913 - val_loss: 0.0432 - val_accuracy: 0.9859\n"
          ]
        },
        {
          "output_type": "execute_result",
          "data": {
            "text/plain": [
              "<keras.callbacks.History at 0x7fc0ab9ab070>"
            ]
          },
          "metadata": {},
          "execution_count": 104
        }
      ],
      "source": [
        "# model 1 with activation function ReLU in the hidden layers\n",
        "from keras.models import Sequential\n",
        "from keras.layers import Dense, Flatten, Conv2D, MaxPooling2D, Dropout\n",
        "model=keras.models.Sequential([\n",
        "    Conv2D(filters =16, kernel_size=(5,5),padding='same', input_shape=(28,28,1),activation='relu'),\n",
        "    MaxPooling2D(pool_size=(2,2)), \n",
        "    Conv2D(filters=32, kernel_size=(5,5), padding='same', activation='relu'),\n",
        "    MaxPooling2D(pool_size=(2,2)), \n",
        "    Flatten(),\n",
        "    Dense(128, activation='relu'), \n",
        "    Dense(10, activation='softmax')\n",
        "])\n",
        "model.compile(\n",
        "    optimizer='adam',\n",
        "    loss='categorical_crossentropy',\n",
        "    metrics=['accuracy']\n",
        ")\n",
        "model.fit(x=X_train4D,\n",
        "          y=y_trainOneHot,\n",
        "          validation_split=0.2,\n",
        "          epochs=5,batch_size=100)"
      ]
    },
    {
      "cell_type": "markdown",
      "metadata": {
        "id": "BAx4-dYmxAcr"
      },
      "source": [
        "# Evaluation Part 1\n"
      ]
    },
    {
      "cell_type": "markdown",
      "source": [
        "Evaluation for model 1"
      ],
      "metadata": {
        "id": "3G4Yb7IbFvpY"
      }
    },
    {
      "cell_type": "code",
      "execution_count": 105,
      "metadata": {
        "colab": {
          "base_uri": "https://localhost:8080/",
          "height": 0
        },
        "id": "8WUXUgtDxBZ-",
        "outputId": "7c170c1c-cba3-44c2-dda2-71c06eaef147"
      },
      "outputs": [
        {
          "output_type": "stream",
          "name": "stdout",
          "text": [
            "313/313 [==============================] - 1s 4ms/step - loss: 0.0374 - accuracy: 0.9889\n"
          ]
        },
        {
          "output_type": "execute_result",
          "data": {
            "text/plain": [
              "[0.03738018497824669, 0.9889000058174133]"
            ]
          },
          "metadata": {},
          "execution_count": 105
        }
      ],
      "source": [
        "# Evaluation \n",
        "model.evaluate(X_test4D, y_testOneHot)"
      ]
    },
    {
      "cell_type": "markdown",
      "source": [
        "Very good accuaracy is achieved as expected as guarenteed by the complex architecture of CNN. Parameters shared through out different layers"
      ],
      "metadata": {
        "id": "uec05L5SPYVL"
      }
    },
    {
      "cell_type": "code",
      "execution_count": 106,
      "metadata": {
        "colab": {
          "base_uri": "https://localhost:8080/",
          "height": 0
        },
        "id": "LuR6aXXUxpoC",
        "outputId": "6f932831-8949-4483-968d-284d47706053"
      },
      "outputs": [
        {
          "output_type": "stream",
          "name": "stdout",
          "text": [
            "313/313 [==============================] - 1s 2ms/step\n"
          ]
        },
        {
          "output_type": "execute_result",
          "data": {
            "text/plain": [
              "array([[5.18830985e-12, 3.88793131e-09, 5.21994465e-08, ...,\n",
              "        9.99998331e-01, 1.84722154e-10, 6.19192804e-07],\n",
              "       [8.17175896e-06, 3.92461807e-05, 9.99952555e-01, ...,\n",
              "        1.30955957e-09, 5.28455892e-08, 5.14010674e-11],\n",
              "       [7.39151574e-07, 9.99621153e-01, 5.56375790e-06, ...,\n",
              "        6.08347109e-05, 7.33925299e-06, 1.61432615e-06],\n",
              "       ...,\n",
              "       [4.49487224e-15, 8.53064019e-09, 1.71691203e-11, ...,\n",
              "        4.70255870e-08, 1.35048817e-08, 1.26741284e-07],\n",
              "       [5.63559652e-08, 4.75464890e-10, 4.15976767e-11, ...,\n",
              "        2.03130912e-09, 4.94837877e-04, 9.99771501e-08],\n",
              "       [7.25876453e-06, 8.15997566e-07, 7.29555609e-07, ...,\n",
              "        7.36361443e-08, 1.48969575e-05, 1.91531711e-07]], dtype=float32)"
            ]
          },
          "metadata": {},
          "execution_count": 106
        }
      ],
      "source": [
        "model.predict(X_test4D)"
      ]
    },
    {
      "cell_type": "code",
      "source": [
        "plt.matshow(X_test[0])  "
      ],
      "metadata": {
        "colab": {
          "base_uri": "https://localhost:8080/",
          "height": 454
        },
        "id": "40NoHg2O18C_",
        "outputId": "7a7e8a8a-6edf-496e-efd2-5be435a0bcf9"
      },
      "execution_count": 107,
      "outputs": [
        {
          "output_type": "execute_result",
          "data": {
            "text/plain": [
              "<matplotlib.image.AxesImage at 0x7fc0b05171c0>"
            ]
          },
          "metadata": {},
          "execution_count": 107
        },
        {
          "output_type": "display_data",
          "data": {
            "text/plain": [
              "<Figure size 480x480 with 1 Axes>"
            ],
            "image/png": "[encoded data removed]"
          },
          "metadata": {}
        }
      ]
    },
    {
      "cell_type": "code",
      "source": [
        "y_predicted=model.predict(X_test4D)\n",
        "y_predicted[0]"
      ],
      "metadata": {
        "colab": {
          "base_uri": "https://localhost:8080/",
          "height": 0
        },
        "id": "GtBaTtbO19LM",
        "outputId": "6bfd51e9-2c8f-466a-fbe0-7d761c1d4d6e"
      },
      "execution_count": 108,
      "outputs": [
        {
          "output_type": "stream",
          "name": "stdout",
          "text": [
            "313/313 [==============================] - 1s 2ms/step\n"
          ]
        },
        {
          "output_type": "execute_result",
          "data": {
            "text/plain": [
              "array([5.1883099e-12, 3.8879313e-09, 5.2199447e-08, 9.9176475e-07,\n",
              "       4.5112859e-12, 1.4769390e-10, 6.3643520e-18, 9.9999833e-01,\n",
              "       1.8472215e-10, 6.1919280e-07], dtype=float32)"
            ]
          },
          "metadata": {},
          "execution_count": 108
        }
      ]
    },
    {
      "cell_type": "code",
      "source": [
        "# use numpy to print the maximum value \n",
        "np.argmax(y_predicted[0])"
      ],
      "metadata": {
        "colab": {
          "base_uri": "https://localhost:8080/",
          "height": 0
        },
        "id": "2xfFmlFO19sn",
        "outputId": "a3b1308c-bfb6-4179-f1ee-822c194fff7e"
      },
      "execution_count": 109,
      "outputs": [
        {
          "output_type": "execute_result",
          "data": {
            "text/plain": [
              "7"
            ]
          },
          "metadata": {},
          "execution_count": 109
        }
      ]
    },
    {
      "cell_type": "markdown",
      "source": [
        "Therefore, the evaluation on the above testing set is correct."
      ],
      "metadata": {
        "id": "Z5lZPRM_Rwjw"
      }
    },
    {
      "cell_type": "code",
      "source": [
        "# confusion matrix preparation\n",
        "\n",
        "# the first five predicting labels from the model1\n",
        "y_predicted_labels=[np.argmax(i) for i in y_predicted]\n",
        "y_predicted_labels[:5]"
      ],
      "metadata": {
        "colab": {
          "base_uri": "https://localhost:8080/",
          "height": 0
        },
        "id": "JwxKd_QI193A",
        "outputId": "e0560e99-c440-47f6-960a-046b5643b049"
      },
      "execution_count": 110,
      "outputs": [
        {
          "output_type": "execute_result",
          "data": {
            "text/plain": [
              "[7, 2, 1, 0, 4]"
            ]
          },
          "metadata": {},
          "execution_count": 110
        }
      ]
    },
    {
      "cell_type": "code",
      "source": [
        "y_test[:5]"
      ],
      "metadata": {
        "colab": {
          "base_uri": "https://localhost:8080/",
          "height": 0
        },
        "id": "aGOZjtYr1-Bd",
        "outputId": "0417e780-c4ae-4451-c6f5-d82f0d72ab3b"
      },
      "execution_count": 111,
      "outputs": [
        {
          "output_type": "execute_result",
          "data": {
            "text/plain": [
              "array([7, 2, 1, 0, 4], dtype=uint8)"
            ]
          },
          "metadata": {},
          "execution_count": 111
        }
      ]
    },
    {
      "cell_type": "code",
      "source": [
        "# build a confusion matrix\n",
        "cm=tf.math.confusion_matrix(labels=y_test, predictions=y_predicted_labels)\n",
        "cm"
      ],
      "metadata": {
        "colab": {
          "base_uri": "https://localhost:8080/",
          "height": 0
        },
        "id": "B28Q54c22Upo",
        "outputId": "a265ec60-5f02-4171-fba3-e2f8f06759b5"
      },
      "execution_count": 112,
      "outputs": [
        {
          "output_type": "execute_result",
          "data": {
            "text/plain": [
              "<tf.Tensor: shape=(10, 10), dtype=int32, numpy=\n",
              "array([[ 970,    0,    0,    0,    1,    1,    5,    1,    2,    0],\n",
              "       [   0, 1135,    0,    0,    0,    0,    0,    0,    0,    0],\n",
              "       [   1,    4, 1013,    6,    1,    0,    1,    4,    2,    0],\n",
              "       [   0,    0,    0, 1007,    0,    2,    0,    0,    1,    0],\n",
              "       [   0,    0,    0,    0,  978,    0,    0,    1,    0,    3],\n",
              "       [   1,    0,    0,   13,    0,  876,    1,    0,    0,    1],\n",
              "       [   1,    2,    0,    1,    3,    2,  948,    1,    0,    0],\n",
              "       [   0,    2,    1,    5,    0,    0,    0, 1018,    1,    1],\n",
              "       [   1,    0,    2,    9,    0,    2,    1,    2,  952,    5],\n",
              "       [   0,    2,    0,    2,    8,    3,    0,    1,    1,  992]],\n",
              "      dtype=int32)>"
            ]
          },
          "metadata": {},
          "execution_count": 112
        }
      ]
    },
    {
      "cell_type": "code",
      "source": [
        "# visulaize the cm \n",
        "import seaborn as sn\n",
        "plt.figure(figsize=(10,7))\n",
        "sn.heatmap(cm,annot=True, fmt='d')\n",
        "plt.xlabel('predicted')\n",
        "plt.ylabel('Truth')"
      ],
      "metadata": {
        "colab": {
          "base_uri": "https://localhost:8080/",
          "height": 636
        },
        "id": "3hhE9eC12U0d",
        "outputId": "b4bc5fa5-563b-4979-e226-2b151c44be2b"
      },
      "execution_count": 113,
      "outputs": [
        {
          "output_type": "execute_result",
          "data": {
            "text/plain": [
              "Text(95.72222222222221, 0.5, 'Truth')"
            ]
          },
          "metadata": {},
          "execution_count": 113
        },
        {
          "output_type": "display_data",
          "data": {
            "text/plain": [
              "<Figure size 1000x700 with 2 Axes>"
            ],
            "image/png": "[encoded data removed]"
          },
          "metadata": {}
        }
      ]
    },
    {
      "cell_type": "markdown",
      "source": [
        "The diagonal of confusion matrix illustrate how many correct prediction is delivered by the model. Since the rest of matrix apart from the diagonal is black with the help of seabron library, the model has little wrong prediction. And the following is going to proceed with the precision, recall and f1 score of the model evaulation on the testing set. "
      ],
      "metadata": {
        "id": "pf0i0ONoR9YK"
      }
    },
    {
      "cell_type": "code",
      "source": [
        "# print the classification report ot see precision, recall and f1 as well\n",
        "from sklearn.metrics import classification_report\n",
        "print(\"Classification Report: \\n\", classification_report(y_test, y_predicted_labels))"
      ],
      "metadata": {
        "colab": {
          "base_uri": "https://localhost:8080/",
          "height": 0
        },
        "id": "bMVyfmw22VRq",
        "outputId": "587c6f62-ba3a-46e0-a096-ff332499a81c"
      },
      "execution_count": 114,
      "outputs": [
        {
          "output_type": "stream",
          "name": "stdout",
          "text": [
            "Classification Report: \n",
            "               precision    recall  f1-score   support\n",
            "\n",
            "           0       1.00      0.99      0.99       980\n",
            "           1       0.99      1.00      1.00      1135\n",
            "           2       1.00      0.98      0.99      1032\n",
            "           3       0.97      1.00      0.98      1010\n",
            "           4       0.99      1.00      0.99       982\n",
            "           5       0.99      0.98      0.99       892\n",
            "           6       0.99      0.99      0.99       958\n",
            "           7       0.99      0.99      0.99      1028\n",
            "           8       0.99      0.98      0.98       974\n",
            "           9       0.99      0.98      0.99      1009\n",
            "\n",
            "    accuracy                           0.99     10000\n",
            "   macro avg       0.99      0.99      0.99     10000\n",
            "weighted avg       0.99      0.99      0.99     10000\n",
            "\n"
          ]
        }
      ]
    },
    {
      "cell_type": "markdown",
      "source": [
        "Precision shows out of all prediction for each class how many prediction is correct. The model has strongest performance on predicting digit 4 and 9.\n",
        "\n",
        "Recall is the out of all digits, how many correct prediction is generated coressponding to their class. Digit 1 perform the best recall. \n",
        "\n",
        "While f1-sccore is the harmonic mean of precision and recall, providing insight on accuracy of classifier in each digits compared to other digit. We can see digit 1 has the best classifier trained with our training samples. On top of that, this fact alligns with its support, which has the most support out of all 10 digits, where support tells us the numebr of samples of the correct prediction that lie mostly in the classificaiton of digit 1.\n",
        "\n",
        "Lastly, the combination of evaluating all the classifiers gives an overall performance of 98% accuarcy to the first model."
      ],
      "metadata": {
        "id": "t3F4A2SvUE7N"
      }
    },
    {
      "cell_type": "markdown",
      "source": [
        "# Trying out different models and training method\n"
      ],
      "metadata": {
        "id": "rNkd7c3b0mw6"
      }
    },
    {
      "cell_type": "markdown",
      "source": [
        "Model2 using tanh as activation function in the hidden layers. "
      ],
      "metadata": {
        "id": "S85lE9IMXfOh"
      }
    },
    {
      "cell_type": "code",
      "source": [
        "# model 2 with activation function tanh in the hidden layers\n",
        "from keras.models import Sequential\n",
        "from keras.layers import Dense, Flatten, Conv2D, MaxPooling2D\n",
        "model2=keras.models.Sequential([\n",
        "    Conv2D(filters =16, kernel_size=(5,5),padding='same', input_shape=(28,28,1),activation='tanh'),\n",
        "    MaxPooling2D(pool_size=(2,2)), \n",
        "    Conv2D(filters=32, kernel_size=(5,5), padding='same', activation='tanh'),\n",
        "    MaxPooling2D(pool_size=(2,2)), \n",
        "    Flatten(),\n",
        "    Dense(128, activation='tanh'), \n",
        "    Dense(10, activation='softmax')\n",
        "])\n",
        "model2.compile(\n",
        "    optimizer='adam',\n",
        "    loss='categorical_crossentropy',\n",
        "    metrics=['accuracy']\n",
        ")\n",
        "model2.fit(x=X_train4D,\n",
        "          y=y_trainOneHot,\n",
        "          validation_split=0.2,\n",
        "          epochs=5,batch_size=100)"
      ],
      "metadata": {
        "colab": {
          "base_uri": "https://localhost:8080/",
          "height": 0
        },
        "id": "MKoOQISENLf6",
        "outputId": "dddddf51-09e9-4ea6-b128-1f83c1b7b391"
      },
      "execution_count": 115,
      "outputs": [
        {
          "output_type": "stream",
          "name": "stdout",
          "text": [
            "Epoch 1/5\n",
            "480/480 [==============================] - 4s 5ms/step - loss: 0.1936 - accuracy: 0.9435 - val_loss: 0.0726 - val_accuracy: 0.9783\n",
            "Epoch 2/5\n",
            "480/480 [==============================] - 2s 4ms/step - loss: 0.0554 - accuracy: 0.9833 - val_loss: 0.0545 - val_accuracy: 0.9823\n",
            "Epoch 3/5\n",
            "480/480 [==============================] - 3s 6ms/step - loss: 0.0353 - accuracy: 0.9893 - val_loss: 0.0484 - val_accuracy: 0.9852\n",
            "Epoch 4/5\n",
            "480/480 [==============================] - 2s 4ms/step - loss: 0.0245 - accuracy: 0.9921 - val_loss: 0.0439 - val_accuracy: 0.9872\n",
            "Epoch 5/5\n",
            "480/480 [==============================] - 2s 4ms/step - loss: 0.0165 - accuracy: 0.9953 - val_loss: 0.0418 - val_accuracy: 0.9878\n"
          ]
        },
        {
          "output_type": "execute_result",
          "data": {
            "text/plain": [
              "<keras.callbacks.History at 0x7fc0afb36ec0>"
            ]
          },
          "metadata": {},
          "execution_count": 115
        }
      ]
    },
    {
      "cell_type": "code",
      "source": [
        "# Evaluation \n",
        "model2.evaluate(X_test4D, y_testOneHot)"
      ],
      "metadata": {
        "colab": {
          "base_uri": "https://localhost:8080/",
          "height": 0
        },
        "id": "Qf2LzqGX1Qvr",
        "outputId": "0d07b19e-5be6-47e8-96cc-25e65c13fb92"
      },
      "execution_count": 116,
      "outputs": [
        {
          "output_type": "stream",
          "name": "stdout",
          "text": [
            "313/313 [==============================] - 1s 2ms/step - loss: 0.0294 - accuracy: 0.9901\n"
          ]
        },
        {
          "output_type": "execute_result",
          "data": {
            "text/plain": [
              "[0.02939545549452305, 0.9901000261306763]"
            ]
          },
          "metadata": {},
          "execution_count": 116
        }
      ]
    },
    {
      "cell_type": "code",
      "source": [
        "model2.predict(X_test4D)"
      ],
      "metadata": {
        "colab": {
          "base_uri": "https://localhost:8080/",
          "height": 0
        },
        "id": "1tZ2AtVu1ZLK",
        "outputId": "710f6886-6262-42c2-f5c9-999394aaf553"
      },
      "execution_count": 117,
      "outputs": [
        {
          "output_type": "stream",
          "name": "stdout",
          "text": [
            "313/313 [==============================] - 1s 2ms/step\n"
          ]
        },
        {
          "output_type": "execute_result",
          "data": {
            "text/plain": [
              "array([[1.4223826e-07, 2.5007796e-07, 1.4222559e-06, ..., 9.9998963e-01,\n",
              "        5.5478910e-08, 6.3375164e-06],\n",
              "       [3.1843891e-05, 1.1859581e-04, 9.9981958e-01, ..., 1.5805159e-07,\n",
              "        2.0552552e-05, 2.9244205e-07],\n",
              "       [2.2396809e-07, 9.9969065e-01, 1.3376124e-06, ..., 3.7859172e-05,\n",
              "        1.2242881e-04, 1.2688777e-06],\n",
              "       ...,\n",
              "       [9.5800513e-11, 5.8074380e-07, 4.9415143e-09, ..., 1.2630362e-06,\n",
              "        5.5803343e-06, 4.6496757e-06],\n",
              "       [2.3164198e-07, 3.1346177e-09, 2.8302211e-10, ..., 1.2771792e-08,\n",
              "        2.1105338e-04, 2.9525646e-08],\n",
              "       [3.8392295e-06, 2.9133083e-09, 2.4924981e-07, ..., 4.0634776e-10,\n",
              "        3.2819012e-06, 7.2948483e-09]], dtype=float32)"
            ]
          },
          "metadata": {},
          "execution_count": 117
        }
      ]
    },
    {
      "cell_type": "code",
      "source": [
        "y2_predicted=model2.predict(X_test4D)\n",
        "y2_predicted[0]"
      ],
      "metadata": {
        "colab": {
          "base_uri": "https://localhost:8080/",
          "height": 0
        },
        "id": "Y2nI4YoPYAJ3",
        "outputId": "d934ec5d-490c-4de1-e43a-5e0527983d22"
      },
      "execution_count": 118,
      "outputs": [
        {
          "output_type": "stream",
          "name": "stdout",
          "text": [
            "313/313 [==============================] - 1s 2ms/step\n"
          ]
        },
        {
          "output_type": "execute_result",
          "data": {
            "text/plain": [
              "array([1.4223826e-07, 2.5007796e-07, 1.4222559e-06, 1.8752485e-06,\n",
              "       2.7990300e-08, 1.9978037e-07, 5.6805055e-12, 9.9998963e-01,\n",
              "       5.5478910e-08, 6.3375164e-06], dtype=float32)"
            ]
          },
          "metadata": {},
          "execution_count": 118
        }
      ]
    },
    {
      "cell_type": "code",
      "source": [
        "# confusion matrix preparation\n",
        "\n",
        "# the first five predicting labels from the model1\n",
        "y2_predicted_labels=[np.argmax(i) for i in y2_predicted]\n",
        "y2_predicted_labels[:5]"
      ],
      "metadata": {
        "colab": {
          "base_uri": "https://localhost:8080/",
          "height": 0
        },
        "id": "CWJ-bl1hYIZ1",
        "outputId": "e8a2bca7-e765-4620-9b26-c6fec6d41b2e"
      },
      "execution_count": 119,
      "outputs": [
        {
          "output_type": "execute_result",
          "data": {
            "text/plain": [
              "[7, 2, 1, 0, 4]"
            ]
          },
          "metadata": {},
          "execution_count": 119
        }
      ]
    },
    {
      "cell_type": "markdown",
      "source": [
        "The first five prediction on the model2 is same as model1, which is quite obvious since both model are performing excellent. But let's look into the confusion matrix and other perfomance matrix."
      ],
      "metadata": {
        "id": "dFE0gGCuYQ6I"
      }
    },
    {
      "cell_type": "code",
      "source": [
        "# build a confusion matrix\n",
        "cm2=tf.math.confusion_matrix(labels=y_test, predictions=y2_predicted_labels)\n",
        "cm2"
      ],
      "metadata": {
        "colab": {
          "base_uri": "https://localhost:8080/",
          "height": 0
        },
        "id": "aGa1v8dTYIc6",
        "outputId": "50b9c5d8-77af-4ad9-e2ce-a9c81eb42481"
      },
      "execution_count": 120,
      "outputs": [
        {
          "output_type": "execute_result",
          "data": {
            "text/plain": [
              "<tf.Tensor: shape=(10, 10), dtype=int32, numpy=\n",
              "array([[ 975,    0,    0,    0,    0,    1,    0,    1,    3,    0],\n",
              "       [   0, 1126,    1,    0,    1,    0,    4,    2,    1,    0],\n",
              "       [   1,    0, 1022,    1,    0,    0,    0,    7,    1,    0],\n",
              "       [   0,    0,    2,  993,    0,    8,    0,    0,    3,    4],\n",
              "       [   0,    0,    0,    0,  977,    0,    1,    0,    0,    4],\n",
              "       [   2,    0,    0,    2,    0,  885,    2,    0,    0,    1],\n",
              "       [   3,    1,    0,    1,    1,    1,  949,    0,    2,    0],\n",
              "       [   1,    0,    5,    1,    0,    0,    0, 1018,    1,    2],\n",
              "       [   4,    0,    3,    0,    0,    1,    1,    2,  963,    0],\n",
              "       [   2,    0,    0,    0,    5,    2,    0,    3,    4,  993]],\n",
              "      dtype=int32)>"
            ]
          },
          "metadata": {},
          "execution_count": 120
        }
      ]
    },
    {
      "cell_type": "code",
      "source": [
        "# visulaize the cm \n",
        "import seaborn as sn\n",
        "plt.figure(figsize=(10,7))\n",
        "sn.heatmap(cm2,annot=True, fmt='d')\n",
        "plt.xlabel('predicted')\n",
        "plt.ylabel('Truth')"
      ],
      "metadata": {
        "colab": {
          "base_uri": "https://localhost:8080/",
          "height": 636
        },
        "id": "5QwTQkPyY_y2",
        "outputId": "e4af9480-067e-472f-86b9-db92449bdb9e"
      },
      "execution_count": 121,
      "outputs": [
        {
          "output_type": "execute_result",
          "data": {
            "text/plain": [
              "Text(95.72222222222221, 0.5, 'Truth')"
            ]
          },
          "metadata": {},
          "execution_count": 121
        },
        {
          "output_type": "display_data",
          "data": {
            "text/plain": [
              "<Figure size 1000x700 with 2 Axes>"
            ],
            "image/png": "[encoded data removed]"
          },
          "metadata": {}
        }
      ]
    },
    {
      "cell_type": "code",
      "source": [
        "# print the classification report ot see precision, recall and f1 as well\n",
        "from sklearn.metrics import classification_report\n",
        "print(\"Classification Report: \\n\", classification_report(y_test, y2_predicted_labels))"
      ],
      "metadata": {
        "colab": {
          "base_uri": "https://localhost:8080/",
          "height": 0
        },
        "id": "wQv5x3pmY__g",
        "outputId": "2e141112-7a75-47a1-faac-31eaed6a5a5f"
      },
      "execution_count": 122,
      "outputs": [
        {
          "output_type": "stream",
          "name": "stdout",
          "text": [
            "Classification Report: \n",
            "               precision    recall  f1-score   support\n",
            "\n",
            "           0       0.99      0.99      0.99       980\n",
            "           1       1.00      0.99      1.00      1135\n",
            "           2       0.99      0.99      0.99      1032\n",
            "           3       0.99      0.98      0.99      1010\n",
            "           4       0.99      0.99      0.99       982\n",
            "           5       0.99      0.99      0.99       892\n",
            "           6       0.99      0.99      0.99       958\n",
            "           7       0.99      0.99      0.99      1028\n",
            "           8       0.98      0.99      0.99       974\n",
            "           9       0.99      0.98      0.99      1009\n",
            "\n",
            "    accuracy                           0.99     10000\n",
            "   macro avg       0.99      0.99      0.99     10000\n",
            "weighted avg       0.99      0.99      0.99     10000\n",
            "\n"
          ]
        }
      ]
    },
    {
      "cell_type": "markdown",
      "source": [
        "Precision perfomance and f1_score of each digit classifier is close to each other in model 2. While digit 1 and 3 have the best recall in model1 This is slightly different from model 1 and distinguish precision from recall while precision is prediction-based and recall is truth-based, and hence, different model would probably learn different features from its own CNN architecture. However, recall would be more or less similar as these models are equally good and training from the same training sample.\n"
      ],
      "metadata": {
        "id": "pYMTaW_3ZPsh"
      }
    },
    {
      "cell_type": "markdown",
      "source": [
        "In the third model, drop out layer is employed in the hope of reducing overfitting. The normal practice of adding dropout layer is after the maxpooling layer since the neurons might be biased when learning a prominent features, dropping out certain amount of neurons could prevent creating bias and without learning redundant details of the input"
      ],
      "metadata": {
        "id": "XS46QQHLaSiT"
      }
    },
    {
      "cell_type": "code",
      "source": [
        "# model 3 with the use of drop out layer\n",
        "from keras.layers import Dropout\n",
        "model3=keras.models.Sequential([\n",
        "    Conv2D(filters =16, kernel_size=(5,5),padding='same', input_shape=(28,28,1),activation='relu'),\n",
        "    MaxPooling2D(pool_size=(2,2)), \n",
        "    Dropout(0.25),\n",
        "    Conv2D(filters=32, kernel_size=(5,5), padding='same', activation='relu'),\n",
        "    MaxPooling2D(pool_size=(2,2)), \n",
        "    Dropout(0.5),\n",
        "    Flatten(),\n",
        "    Dense(128, activation='relu'), \n",
        "    Dense(10, activation='softmax')\n",
        "])\n",
        "model3.compile(\n",
        "    optimizer='adam',\n",
        "    loss='categorical_crossentropy',\n",
        "    metrics=['accuracy']\n",
        ")\n",
        "model3.fit(x=X_train4D,\n",
        "          y=y_trainOneHot,\n",
        "          validation_split=0.2,\n",
        "          epochs=5,batch_size=100)"
      ],
      "metadata": {
        "colab": {
          "base_uri": "https://localhost:8080/",
          "height": 0
        },
        "id": "5Yi-Izp30xbd",
        "outputId": "5f85626d-d7f8-412e-e694-cd5edc68a816"
      },
      "execution_count": 123,
      "outputs": [
        {
          "output_type": "stream",
          "name": "stdout",
          "text": [
            "Epoch 1/5\n",
            "480/480 [==============================] - 5s 5ms/step - loss: 0.3148 - accuracy: 0.8985 - val_loss: 0.0771 - val_accuracy: 0.9777\n",
            "Epoch 2/5\n",
            "480/480 [==============================] - 2s 4ms/step - loss: 0.1044 - accuracy: 0.9671 - val_loss: 0.0602 - val_accuracy: 0.9832\n",
            "Epoch 3/5\n",
            "480/480 [==============================] - 2s 4ms/step - loss: 0.0805 - accuracy: 0.9736 - val_loss: 0.0471 - val_accuracy: 0.9867\n",
            "Epoch 4/5\n",
            "480/480 [==============================] - 2s 4ms/step - loss: 0.0652 - accuracy: 0.9797 - val_loss: 0.0412 - val_accuracy: 0.9882\n",
            "Epoch 5/5\n",
            "480/480 [==============================] - 3s 6ms/step - loss: 0.0561 - accuracy: 0.9819 - val_loss: 0.0384 - val_accuracy: 0.9882\n"
          ]
        },
        {
          "output_type": "execute_result",
          "data": {
            "text/plain": [
              "<keras.callbacks.History at 0x7fc0af6f7a30>"
            ]
          },
          "metadata": {},
          "execution_count": 123
        }
      ]
    },
    {
      "cell_type": "markdown",
      "source": [
        "We can see model 3 with dropout layer has lower accuracy from the previous model but the accuracy catch up in the later epochs. Also, using dropout layer in CNN usually would have better generalization on unseen input. So we might look forward on evaluating my custom dataset on model 3 that it would have better performance than the previous 2 model."
      ],
      "metadata": {
        "id": "XJPwrfZDcdaR"
      }
    },
    {
      "cell_type": "code",
      "source": [
        "# Evaluation \n",
        "model3.evaluate(X_test4D, y_testOneHot)"
      ],
      "metadata": {
        "colab": {
          "base_uri": "https://localhost:8080/",
          "height": 0
        },
        "id": "mzGOqRbT1UPj",
        "outputId": "f46166b2-5825-4bb2-a002-33d36ee5cb09"
      },
      "execution_count": 124,
      "outputs": [
        {
          "output_type": "stream",
          "name": "stdout",
          "text": [
            "313/313 [==============================] - 1s 4ms/step - loss: 0.0281 - accuracy: 0.9910\n"
          ]
        },
        {
          "output_type": "execute_result",
          "data": {
            "text/plain": [
              "[0.02811076119542122, 0.9909999966621399]"
            ]
          },
          "metadata": {},
          "execution_count": 124
        }
      ]
    },
    {
      "cell_type": "code",
      "source": [
        "y3_predicted=model3.predict(X_test4D)\n",
        "y3_predicted_labels=[np.argmax(i) for i in y3_predicted]\n",
        "cm3=tf.math.confusion_matrix(labels=y_test, predictions=y3_predicted_labels)\n",
        "cm3"
      ],
      "metadata": {
        "colab": {
          "base_uri": "https://localhost:8080/",
          "height": 0
        },
        "id": "UoAaAsRv1f4z",
        "outputId": "7504215c-95f9-4bab-aa0f-746bffb5b149"
      },
      "execution_count": 125,
      "outputs": [
        {
          "output_type": "stream",
          "name": "stdout",
          "text": [
            "313/313 [==============================] - 1s 3ms/step\n"
          ]
        },
        {
          "output_type": "execute_result",
          "data": {
            "text/plain": [
              "<tf.Tensor: shape=(10, 10), dtype=int32, numpy=\n",
              "array([[ 978,    0,    0,    0,    0,    1,    0,    1,    0,    0],\n",
              "       [   0, 1128,    1,    2,    0,    0,    1,    2,    1,    0],\n",
              "       [   1,    0, 1026,    1,    0,    0,    0,    4,    0,    0],\n",
              "       [   0,    0,    0, 1005,    0,    2,    0,    1,    1,    1],\n",
              "       [   0,    0,    0,    0,  970,    0,    1,    1,    0,   10],\n",
              "       [   1,    0,    0,    6,    0,  884,    1,    0,    0,    0],\n",
              "       [   4,    2,    0,    0,    1,    3,  947,    0,    1,    0],\n",
              "       [   0,    1,    5,    3,    0,    0,    0, 1016,    1,    2],\n",
              "       [   4,    0,    1,    1,    0,    2,    1,    2,  957,    6],\n",
              "       [   3,    0,    0,    1,    2,    2,    0,    1,    1,  999]],\n",
              "      dtype=int32)>"
            ]
          },
          "metadata": {},
          "execution_count": 125
        }
      ]
    },
    {
      "cell_type": "markdown",
      "source": [
        "# Evaluation Part 2\n",
        "### Evaluate the model above to see how well the model can generalise its prediction on my own custom handwritten digit"
      ],
      "metadata": {
        "id": "jGuvgAse4lct"
      }
    },
    {
      "cell_type": "markdown",
      "source": [
        "# Data source and Preprocessing from a custom dataset with my own handwriting"
      ],
      "metadata": {
        "id": "HYJQiGGbGSFs"
      }
    },
    {
      "cell_type": "code",
      "execution_count": 126,
      "metadata": {
        "id": "LbD15xl4vhsH"
      },
      "outputs": [],
      "source": [
        "from sklearn.preprocessing import LabelEncoder\n",
        "from keras.utils import to_categorical\n",
        "\n",
        "# Load the csv file\n",
        "df= pd.read_csv('output3.csv', header=None)\n",
        "\n",
        "# Define a dictionary that maps numerical labels to string labels\n",
        "label_dict={\n",
        "    1:'one',\n",
        "    2:'two',\n",
        "    3:'three',\n",
        "    4:'four',\n",
        "    5:'five',\n",
        "    6:'six',\n",
        "    7:'seven',\n",
        "    8:'eight',\n",
        "    9:'nine',\n",
        "    0:'zero'\n",
        "}\n",
        "\n",
        "# Convert the categorical labels to one-hot labels\n",
        "le=LabelEncoder()\n",
        "y=le.fit_transform(df.iloc[:,-1])"
      ]
    },
    {
      "cell_type": "code",
      "execution_count": 127,
      "metadata": {
        "colab": {
          "base_uri": "https://localhost:8080/",
          "height": 0
        },
        "id": "cE-bSHfUwWL5",
        "outputId": "7d22046c-5d4c-43dd-e3de-24ffab047310"
      },
      "outputs": [
        {
          "output_type": "execute_result",
          "data": {
            "text/plain": [
              "array([6, 6, 6, 9, 9, 9, 5, 5, 5, 8, 8, 8, 4, 4, 4, 3, 3, 3, 0, 0, 0, 1,\n",
              "       1, 1, 7, 7, 7, 2, 2, 2])"
            ]
          },
          "metadata": {},
          "execution_count": 127
        }
      ],
      "source": [
        "y"
      ]
    },
    {
      "cell_type": "code",
      "execution_count": 128,
      "metadata": {
        "id": "4VMizTZ9wgsf",
        "colab": {
          "base_uri": "https://localhost:8080/",
          "height": 1008
        },
        "outputId": "229bf48e-af9d-459c-83dd-f270891ef592"
      },
      "outputs": [
        {
          "output_type": "execute_result",
          "data": {
            "text/plain": [
              "    0    1    2    3    4    5    6    7    8    9    ...  774  775  776  777  \\\n",
              "0   195  195  195  196  196  196  197  197  205  178  ...  199  198  198  197   \n",
              "1   195  194  194  194  194  195  196  197  195  186  ...  210  209  209  208   \n",
              "2   189  189  190  190  191  192  193  193  192  192  ...  207  207  207  207   \n",
              "3   180  180  181  181  182  183  184  184  180  186  ...  205  205  205  205   \n",
              "4   175  175  176  176  177  178  179  179  177  181  ...  207  207  207  207   \n",
              "5   181  181  182  182  183  184  185  185  190  178  ...  203  222  200  183   \n",
              "6   188  188  188  189  189  189  190  190  193  187  ...  198  198  198  198   \n",
              "7   196  196  196  197  197  198  198  198  187  207  ...  201  200  200  199   \n",
              "8   188  188  189  189  190  191  192  192  191  189  ...  201  202  202  203   \n",
              "9   190  190  190  191  191  191  192  192  195  193  ...  207  207  207  207   \n",
              "10  194  193  190  188  194  202  205  202  202  189  ...  212  212  212  212   \n",
              "11  190  190  190  191  191  191  192  192  195  193  ...  210  211  211  210   \n",
              "12  196  185  192  204  200  195  197  198  193  213  ...  195  194  194  195   \n",
              "13  204  196  200  213  188  209  203  203  207  198  ...  209  208  208  207   \n",
              "14  195  195  196  197  199  200  201  201  203  198  ...  201  202  202  203   \n",
              "15  189  188  188  188  189  191  193  194  195  196  ...  193  193  193  193   \n",
              "16  185  184  189  189  184  190  193  182  191  182  ...  196  196  196  195   \n",
              "17  182  182  186  191  190  183  182  185  182  184  ...  196  197  197  198   \n",
              "18  182  182  183  184  185  187  188  188  181  187  ...  204  204  204  204   \n",
              "19  187  187  188  189  189  190  191  191  188  194  ...  195  196  196  197   \n",
              "20  200  200  200  201  201  201  202  202  195  210  ...  211  210  210  209   \n",
              "21  191  191  191  192  192  192  193  193  194  196  ...  205  205  205  206   \n",
              "22  194  194  194  195  195  195  196  196  200  185  ...  201  201  201  200   \n",
              "23  179  179  180  180  181  182  182  183  186  189  ...  205  205  205  205   \n",
              "24  194  194  194  195  195  195  196  196  194  197  ...  207  206  206  205   \n",
              "25  200  193  188  189  193  194  195  197  195  194  ...  202  201  201  200   \n",
              "26  193  193  193  193  193  193  193  192  198  193  ...  215  214  214  213   \n",
              "27  178  178  179  180  181  182  183  183  190  184  ...  202  202  202  202   \n",
              "28  191  194  188  185  190  188  186  191  193  192  ...  200  200  201  201   \n",
              "29  191  190  191  190  188  185  186  189  191  184  ...  194  194  195  196   \n",
              "\n",
              "    778  779  780  781  782  783  \n",
              "0   197  197  199  199  199  199  \n",
              "1   208  208  209  209  209  209  \n",
              "2   207  207  206  206  206  206  \n",
              "3   205  205  204  204  204  204  \n",
              "4   207  207  207  207  207  207  \n",
              "5   216  210  208  208  208  208  \n",
              "6   198  198  199  199  199  198  \n",
              "7   198  198  200  199  198  197  \n",
              "8   203  203  203  203  203  203  \n",
              "9   207  207  207  207  207  207  \n",
              "10  212  212  211  211  211  211  \n",
              "11  210  209  211  211  211  211  \n",
              "12  195  196  195  195  195  195  \n",
              "13  207  207  207  206  205  204  \n",
              "14  203  203  204  204  204  204  \n",
              "15  193  194  193  193  193  193  \n",
              "16  194  193  194  194  195  196  \n",
              "17  198  198  196  197  198  199  \n",
              "18  204  204  204  204  204  204  \n",
              "19  197  197  196  196  196  196  \n",
              "20  209  209  211  211  211  210  \n",
              "21  207  208  205  205  205  205  \n",
              "22  199  198  200  200  200  199  \n",
              "23  205  205  206  206  206  206  \n",
              "24  205  205  204  204  204  204  \n",
              "25  200  200  198  198  198  198  \n",
              "26  213  213  213  213  213  212  \n",
              "27  202  202  202  202  202  202  \n",
              "28  199  197  198  198  198  198  \n",
              "29  195  194  193  193  192  191  \n",
              "\n",
              "[30 rows x 784 columns]"
            ],
            "text/html": [
              "\n",
              "  <div id=\"df-746c85be-c0c3-42c0-a0b6-4e0732b86e7c\">\n",
              "    <div class=\"colab-df-container\">\n",
              "      <div>\n",
              "<style scoped>\n",
              "    .dataframe tbody tr th:only-of-type {\n",
              "        vertical-align: middle;\n",
              "    }\n",
              "\n",
              "    .dataframe tbody tr th {\n",
              "        vertical-align: top;\n",
              "    }\n",
              "\n",
              "    .dataframe thead th {\n",
              "        text-align: right;\n",
              "    }\n",
              "</style>\n",
              "<table border=\"1\" class=\"dataframe\">\n",
              "  <thead>\n",
              "    <tr style=\"text-align: right;\">\n",
              "      <th></th>\n",
              "      <th>0</th>\n",
              "      <th>1</th>\n",
              "      <th>2</th>\n",
              "      <th>3</th>\n",
              "      <th>4</th>\n",
              "      <th>5</th>\n",
              "      <th>6</th>\n",
              "      <th>7</th>\n",
              "      <th>8</th>\n",
              "      <th>9</th>\n",
              "      <th>...</th>\n",
              "      <th>774</th>\n",
              "      <th>775</th>\n",
              "      <th>776</th>\n",
              "      <th>777</th>\n",
              "      <th>778</th>\n",
              "      <th>779</th>\n",
              "      <th>780</th>\n",
              "      <th>781</th>\n",
              "      <th>782</th>\n",
              "      <th>783</th>\n",
              "    </tr>\n",
              "  </thead>\n",
              "  <tbody>\n",
              "    <tr>\n",
              "      <th>0</th>\n",
              "      <td>195</td>\n",
              "      <td>195</td>\n",
              "      <td>195</td>\n",
              "      <td>196</td>\n",
              "      <td>196</td>\n",
              "      <td>196</td>\n",
              "      <td>197</td>\n",
              "      <td>197</td>\n",
              "      <td>205</td>\n",
              "      <td>178</td>\n",
              "      <td>...</td>\n",
              "      <td>199</td>\n",
              "      <td>198</td>\n",
              "      <td>198</td>\n",
              "      <td>197</td>\n",
              "      <td>197</td>\n",
              "      <td>197</td>\n",
              "      <td>199</td>\n",
              "      <td>199</td>\n",
              "      <td>199</td>\n",
              "      <td>199</td>\n",
              "    </tr>\n",
              "    <tr>\n",
              "      <th>1</th>\n",
              "      <td>195</td>\n",
              "      <td>194</td>\n",
              "      <td>194</td>\n",
              "      <td>194</td>\n",
              "      <td>194</td>\n",
              "      <td>195</td>\n",
              "      <td>196</td>\n",
              "      <td>197</td>\n",
              "      <td>195</td>\n",
              "      <td>186</td>\n",
              "      <td>...</td>\n",
              "      <td>210</td>\n",
              "      <td>209</td>\n",
              "      <td>209</td>\n",
              "      <td>208</td>\n",
              "      <td>208</td>\n",
              "      <td>208</td>\n",
              "      <td>209</td>\n",
              "      <td>209</td>\n",
              "      <td>209</td>\n",
              "      <td>209</td>\n",
              "    </tr>\n",
              "    <tr>\n",
              "      <th>2</th>\n",
              "      <td>189</td>\n",
              "      <td>189</td>\n",
              "      <td>190</td>\n",
              "      <td>190</td>\n",
              "      <td>191</td>\n",
              "      <td>192</td>\n",
              "      <td>193</td>\n",
              "      <td>193</td>\n",
              "      <td>192</td>\n",
              "      <td>192</td>\n",
              "      <td>...</td>\n",
              "      <td>207</td>\n",
              "      <td>207</td>\n",
              "      <td>207</td>\n",
              "      <td>207</td>\n",
              "      <td>207</td>\n",
              "      <td>207</td>\n",
              "      <td>206</td>\n",
              "      <td>206</td>\n",
              "      <td>206</td>\n",
              "      <td>206</td>\n",
              "    </tr>\n",
              "    <tr>\n",
              "      <th>3</th>\n",
              "      <td>180</td>\n",
              "      <td>180</td>\n",
              "      <td>181</td>\n",
              "      <td>181</td>\n",
              "      <td>182</td>\n",
              "      <td>183</td>\n",
              "      <td>184</td>\n",
              "      <td>184</td>\n",
              "      <td>180</td>\n",
              "      <td>186</td>\n",
              "      <td>...</td>\n",
              "      <td>205</td>\n",
              "      <td>205</td>\n",
              "      <td>205</td>\n",
              "      <td>205</td>\n",
              "      <td>205</td>\n",
              "      <td>205</td>\n",
              "      <td>204</td>\n",
              "      <td>204</td>\n",
              "      <td>204</td>\n",
              "      <td>204</td>\n",
              "    </tr>\n",
              "    <tr>\n",
              "      <th>4</th>\n",
              "      <td>175</td>\n",
              "      <td>175</td>\n",
              "      <td>176</td>\n",
              "      <td>176</td>\n",
              "      <td>177</td>\n",
              "      <td>178</td>\n",
              "      <td>179</td>\n",
              "      <td>179</td>\n",
              "      <td>177</td>\n",
              "      <td>181</td>\n",
              "      <td>...</td>\n",
              "      <td>207</td>\n",
              "      <td>207</td>\n",
              "      <td>207</td>\n",
              "      <td>207</td>\n",
              "      <td>207</td>\n",
              "      <td>207</td>\n",
              "      <td>207</td>\n",
              "      <td>207</td>\n",
              "      <td>207</td>\n",
              "      <td>207</td>\n",
              "    </tr>\n",
              "    <tr>\n",
              "      <th>5</th>\n",
              "      <td>181</td>\n",
              "      <td>181</td>\n",
              "      <td>182</td>\n",
              "      <td>182</td>\n",
              "      <td>183</td>\n",
              "      <td>184</td>\n",
              "      <td>185</td>\n",
              "      <td>185</td>\n",
              "      <td>190</td>\n",
              "      <td>178</td>\n",
              "      <td>...</td>\n",
              "      <td>203</td>\n",
              "      <td>222</td>\n",
              "      <td>200</td>\n",
              "      <td>183</td>\n",
              "      <td>216</td>\n",
              "      <td>210</td>\n",
              "      <td>208</td>\n",
              "      <td>208</td>\n",
              "      <td>208</td>\n",
              "      <td>208</td>\n",
              "    </tr>\n",
              "    <tr>\n",
              "      <th>6</th>\n",
              "      <td>188</td>\n",
              "      <td>188</td>\n",
              "      <td>188</td>\n",
              "      <td>189</td>\n",
              "      <td>189</td>\n",
              "      <td>189</td>\n",
              "      <td>190</td>\n",
              "      <td>190</td>\n",
              "      <td>193</td>\n",
              "      <td>187</td>\n",
              "      <td>...</td>\n",
              "      <td>198</td>\n",
              "      <td>198</td>\n",
              "      <td>198</td>\n",
              "      <td>198</td>\n",
              "      <td>198</td>\n",
              "      <td>198</td>\n",
              "      <td>199</td>\n",
              "      <td>199</td>\n",
              "      <td>199</td>\n",
              "      <td>198</td>\n",
              "    </tr>\n",
              "    <tr>\n",
              "      <th>7</th>\n",
              "      <td>196</td>\n",
              "      <td>196</td>\n",
              "      <td>196</td>\n",
              "      <td>197</td>\n",
              "      <td>197</td>\n",
              "      <td>198</td>\n",
              "      <td>198</td>\n",
              "      <td>198</td>\n",
              "      <td>187</td>\n",
              "      <td>207</td>\n",
              "      <td>...</td>\n",
              "      <td>201</td>\n",
              "      <td>200</td>\n",
              "      <td>200</td>\n",
              "      <td>199</td>\n",
              "      <td>198</td>\n",
              "      <td>198</td>\n",
              "      <td>200</td>\n",
              "      <td>199</td>\n",
              "      <td>198</td>\n",
              "      <td>197</td>\n",
              "    </tr>\n",
              "    <tr>\n",
              "      <th>8</th>\n",
              "      <td>188</td>\n",
              "      <td>188</td>\n",
              "      <td>189</td>\n",
              "      <td>189</td>\n",
              "      <td>190</td>\n",
              "      <td>191</td>\n",
              "      <td>192</td>\n",
              "      <td>192</td>\n",
              "      <td>191</td>\n",
              "      <td>189</td>\n",
              "      <td>...</td>\n",
              "      <td>201</td>\n",
              "      <td>202</td>\n",
              "      <td>202</td>\n",
              "      <td>203</td>\n",
              "      <td>203</td>\n",
              "      <td>203</td>\n",
              "      <td>203</td>\n",
              "      <td>203</td>\n",
              "      <td>203</td>\n",
              "      <td>203</td>\n",
              "    </tr>\n",
              "    <tr>\n",
              "      <th>9</th>\n",
              "      <td>190</td>\n",
              "      <td>190</td>\n",
              "      <td>190</td>\n",
              "      <td>191</td>\n",
              "      <td>191</td>\n",
              "      <td>191</td>\n",
              "      <td>192</td>\n",
              "      <td>192</td>\n",
              "      <td>195</td>\n",
              "      <td>193</td>\n",
              "      <td>...</td>\n",
              "      <td>207</td>\n",
              "      <td>207</td>\n",
              "      <td>207</td>\n",
              "      <td>207</td>\n",
              "      <td>207</td>\n",
              "      <td>207</td>\n",
              "      <td>207</td>\n",
              "      <td>207</td>\n",
              "      <td>207</td>\n",
              "      <td>207</td>\n",
              "    </tr>\n",
              "    <tr>\n",
              "      <th>10</th>\n",
              "      <td>194</td>\n",
              "      <td>193</td>\n",
              "      <td>190</td>\n",
              "      <td>188</td>\n",
              "      <td>194</td>\n",
              "      <td>202</td>\n",
              "      <td>205</td>\n",
              "      <td>202</td>\n",
              "      <td>202</td>\n",
              "      <td>189</td>\n",
              "      <td>...</td>\n",
              "      <td>212</td>\n",
              "      <td>212</td>\n",
              "      <td>212</td>\n",
              "      <td>212</td>\n",
              "      <td>212</td>\n",
              "      <td>212</td>\n",
              "      <td>211</td>\n",
              "      <td>211</td>\n",
              "      <td>211</td>\n",
              "      <td>211</td>\n",
              "    </tr>\n",
              "    <tr>\n",
              "      <th>11</th>\n",
              "      <td>190</td>\n",
              "      <td>190</td>\n",
              "      <td>190</td>\n",
              "      <td>191</td>\n",
              "      <td>191</td>\n",
              "      <td>191</td>\n",
              "      <td>192</td>\n",
              "      <td>192</td>\n",
              "      <td>195</td>\n",
              "      <td>193</td>\n",
              "      <td>...</td>\n",
              "      <td>210</td>\n",
              "      <td>211</td>\n",
              "      <td>211</td>\n",
              "      <td>210</td>\n",
              "      <td>210</td>\n",
              "      <td>209</td>\n",
              "      <td>211</td>\n",
              "      <td>211</td>\n",
              "      <td>211</td>\n",
              "      <td>211</td>\n",
              "    </tr>\n",
              "    <tr>\n",
              "      <th>12</th>\n",
              "      <td>196</td>\n",
              "      <td>185</td>\n",
              "      <td>192</td>\n",
              "      <td>204</td>\n",
              "      <td>200</td>\n",
              "      <td>195</td>\n",
              "      <td>197</td>\n",
              "      <td>198</td>\n",
              "      <td>193</td>\n",
              "      <td>213</td>\n",
              "      <td>...</td>\n",
              "      <td>195</td>\n",
              "      <td>194</td>\n",
              "      <td>194</td>\n",
              "      <td>195</td>\n",
              "      <td>195</td>\n",
              "      <td>196</td>\n",
              "      <td>195</td>\n",
              "      <td>195</td>\n",
              "      <td>195</td>\n",
              "      <td>195</td>\n",
              "    </tr>\n",
              "    <tr>\n",
              "      <th>13</th>\n",
              "      <td>204</td>\n",
              "      <td>196</td>\n",
              "      <td>200</td>\n",
              "      <td>213</td>\n",
              "      <td>188</td>\n",
              "      <td>209</td>\n",
              "      <td>203</td>\n",
              "      <td>203</td>\n",
              "      <td>207</td>\n",
              "      <td>198</td>\n",
              "      <td>...</td>\n",
              "      <td>209</td>\n",
              "      <td>208</td>\n",
              "      <td>208</td>\n",
              "      <td>207</td>\n",
              "      <td>207</td>\n",
              "      <td>207</td>\n",
              "      <td>207</td>\n",
              "      <td>206</td>\n",
              "      <td>205</td>\n",
              "      <td>204</td>\n",
              "    </tr>\n",
              "    <tr>\n",
              "      <th>14</th>\n",
              "      <td>195</td>\n",
              "      <td>195</td>\n",
              "      <td>196</td>\n",
              "      <td>197</td>\n",
              "      <td>199</td>\n",
              "      <td>200</td>\n",
              "      <td>201</td>\n",
              "      <td>201</td>\n",
              "      <td>203</td>\n",
              "      <td>198</td>\n",
              "      <td>...</td>\n",
              "      <td>201</td>\n",
              "      <td>202</td>\n",
              "      <td>202</td>\n",
              "      <td>203</td>\n",
              "      <td>203</td>\n",
              "      <td>203</td>\n",
              "      <td>204</td>\n",
              "      <td>204</td>\n",
              "      <td>204</td>\n",
              "      <td>204</td>\n",
              "    </tr>\n",
              "    <tr>\n",
              "      <th>15</th>\n",
              "      <td>189</td>\n",
              "      <td>188</td>\n",
              "      <td>188</td>\n",
              "      <td>188</td>\n",
              "      <td>189</td>\n",
              "      <td>191</td>\n",
              "      <td>193</td>\n",
              "      <td>194</td>\n",
              "      <td>195</td>\n",
              "      <td>196</td>\n",
              "      <td>...</td>\n",
              "      <td>193</td>\n",
              "      <td>193</td>\n",
              "      <td>193</td>\n",
              "      <td>193</td>\n",
              "      <td>193</td>\n",
              "      <td>194</td>\n",
              "      <td>193</td>\n",
              "      <td>193</td>\n",
              "      <td>193</td>\n",
              "      <td>193</td>\n",
              "    </tr>\n",
              "    <tr>\n",
              "      <th>16</th>\n",
              "      <td>185</td>\n",
              "      <td>184</td>\n",
              "      <td>189</td>\n",
              "      <td>189</td>\n",
              "      <td>184</td>\n",
              "      <td>190</td>\n",
              "      <td>193</td>\n",
              "      <td>182</td>\n",
              "      <td>191</td>\n",
              "      <td>182</td>\n",
              "      <td>...</td>\n",
              "      <td>196</td>\n",
              "      <td>196</td>\n",
              "      <td>196</td>\n",
              "      <td>195</td>\n",
              "      <td>194</td>\n",
              "      <td>193</td>\n",
              "      <td>194</td>\n",
              "      <td>194</td>\n",
              "      <td>195</td>\n",
              "      <td>196</td>\n",
              "    </tr>\n",
              "    <tr>\n",
              "      <th>17</th>\n",
              "      <td>182</td>\n",
              "      <td>182</td>\n",
              "      <td>186</td>\n",
              "      <td>191</td>\n",
              "      <td>190</td>\n",
              "      <td>183</td>\n",
              "      <td>182</td>\n",
              "      <td>185</td>\n",
              "      <td>182</td>\n",
              "      <td>184</td>\n",
              "      <td>...</td>\n",
              "      <td>196</td>\n",
              "      <td>197</td>\n",
              "      <td>197</td>\n",
              "      <td>198</td>\n",
              "      <td>198</td>\n",
              "      <td>198</td>\n",
              "      <td>196</td>\n",
              "      <td>197</td>\n",
              "      <td>198</td>\n",
              "      <td>199</td>\n",
              "    </tr>\n",
              "    <tr>\n",
              "      <th>18</th>\n",
              "      <td>182</td>\n",
              "      <td>182</td>\n",
              "      <td>183</td>\n",
              "      <td>184</td>\n",
              "      <td>185</td>\n",
              "      <td>187</td>\n",
              "      <td>188</td>\n",
              "      <td>188</td>\n",
              "      <td>181</td>\n",
              "      <td>187</td>\n",
              "      <td>...</td>\n",
              "      <td>204</td>\n",
              "      <td>204</td>\n",
              "      <td>204</td>\n",
              "      <td>204</td>\n",
              "      <td>204</td>\n",
              "      <td>204</td>\n",
              "      <td>204</td>\n",
              "      <td>204</td>\n",
              "      <td>204</td>\n",
              "      <td>204</td>\n",
              "    </tr>\n",
              "    <tr>\n",
              "      <th>19</th>\n",
              "      <td>187</td>\n",
              "      <td>187</td>\n",
              "      <td>188</td>\n",
              "      <td>189</td>\n",
              "      <td>189</td>\n",
              "      <td>190</td>\n",
              "      <td>191</td>\n",
              "      <td>191</td>\n",
              "      <td>188</td>\n",
              "      <td>194</td>\n",
              "      <td>...</td>\n",
              "      <td>195</td>\n",
              "      <td>196</td>\n",
              "      <td>196</td>\n",
              "      <td>197</td>\n",
              "      <td>197</td>\n",
              "      <td>197</td>\n",
              "      <td>196</td>\n",
              "      <td>196</td>\n",
              "      <td>196</td>\n",
              "      <td>196</td>\n",
              "    </tr>\n",
              "    <tr>\n",
              "      <th>20</th>\n",
              "      <td>200</td>\n",
              "      <td>200</td>\n",
              "      <td>200</td>\n",
              "      <td>201</td>\n",
              "      <td>201</td>\n",
              "      <td>201</td>\n",
              "      <td>202</td>\n",
              "      <td>202</td>\n",
              "      <td>195</td>\n",
              "      <td>210</td>\n",
              "      <td>...</td>\n",
              "      <td>211</td>\n",
              "      <td>210</td>\n",
              "      <td>210</td>\n",
              "      <td>209</td>\n",
              "      <td>209</td>\n",
              "      <td>209</td>\n",
              "      <td>211</td>\n",
              "      <td>211</td>\n",
              "      <td>211</td>\n",
              "      <td>210</td>\n",
              "    </tr>\n",
              "    <tr>\n",
              "      <th>21</th>\n",
              "      <td>191</td>\n",
              "      <td>191</td>\n",
              "      <td>191</td>\n",
              "      <td>192</td>\n",
              "      <td>192</td>\n",
              "      <td>192</td>\n",
              "      <td>193</td>\n",
              "      <td>193</td>\n",
              "      <td>194</td>\n",
              "      <td>196</td>\n",
              "      <td>...</td>\n",
              "      <td>205</td>\n",
              "      <td>205</td>\n",
              "      <td>205</td>\n",
              "      <td>206</td>\n",
              "      <td>207</td>\n",
              "      <td>208</td>\n",
              "      <td>205</td>\n",
              "      <td>205</td>\n",
              "      <td>205</td>\n",
              "      <td>205</td>\n",
              "    </tr>\n",
              "    <tr>\n",
              "      <th>22</th>\n",
              "      <td>194</td>\n",
              "      <td>194</td>\n",
              "      <td>194</td>\n",
              "      <td>195</td>\n",
              "      <td>195</td>\n",
              "      <td>195</td>\n",
              "      <td>196</td>\n",
              "      <td>196</td>\n",
              "      <td>200</td>\n",
              "      <td>185</td>\n",
              "      <td>...</td>\n",
              "      <td>201</td>\n",
              "      <td>201</td>\n",
              "      <td>201</td>\n",
              "      <td>200</td>\n",
              "      <td>199</td>\n",
              "      <td>198</td>\n",
              "      <td>200</td>\n",
              "      <td>200</td>\n",
              "      <td>200</td>\n",
              "      <td>199</td>\n",
              "    </tr>\n",
              "    <tr>\n",
              "      <th>23</th>\n",
              "      <td>179</td>\n",
              "      <td>179</td>\n",
              "      <td>180</td>\n",
              "      <td>180</td>\n",
              "      <td>181</td>\n",
              "      <td>182</td>\n",
              "      <td>182</td>\n",
              "      <td>183</td>\n",
              "      <td>186</td>\n",
              "      <td>189</td>\n",
              "      <td>...</td>\n",
              "      <td>205</td>\n",
              "      <td>205</td>\n",
              "      <td>205</td>\n",
              "      <td>205</td>\n",
              "      <td>205</td>\n",
              "      <td>205</td>\n",
              "      <td>206</td>\n",
              "      <td>206</td>\n",
              "      <td>206</td>\n",
              "      <td>206</td>\n",
              "    </tr>\n",
              "    <tr>\n",
              "      <th>24</th>\n",
              "      <td>194</td>\n",
              "      <td>194</td>\n",
              "      <td>194</td>\n",
              "      <td>195</td>\n",
              "      <td>195</td>\n",
              "      <td>195</td>\n",
              "      <td>196</td>\n",
              "      <td>196</td>\n",
              "      <td>194</td>\n",
              "      <td>197</td>\n",
              "      <td>...</td>\n",
              "      <td>207</td>\n",
              "      <td>206</td>\n",
              "      <td>206</td>\n",
              "      <td>205</td>\n",
              "      <td>205</td>\n",
              "      <td>205</td>\n",
              "      <td>204</td>\n",
              "      <td>204</td>\n",
              "      <td>204</td>\n",
              "      <td>204</td>\n",
              "    </tr>\n",
              "    <tr>\n",
              "      <th>25</th>\n",
              "      <td>200</td>\n",
              "      <td>193</td>\n",
              "      <td>188</td>\n",
              "      <td>189</td>\n",
              "      <td>193</td>\n",
              "      <td>194</td>\n",
              "      <td>195</td>\n",
              "      <td>197</td>\n",
              "      <td>195</td>\n",
              "      <td>194</td>\n",
              "      <td>...</td>\n",
              "      <td>202</td>\n",
              "      <td>201</td>\n",
              "      <td>201</td>\n",
              "      <td>200</td>\n",
              "      <td>200</td>\n",
              "      <td>200</td>\n",
              "      <td>198</td>\n",
              "      <td>198</td>\n",
              "      <td>198</td>\n",
              "      <td>198</td>\n",
              "    </tr>\n",
              "    <tr>\n",
              "      <th>26</th>\n",
              "      <td>193</td>\n",
              "      <td>193</td>\n",
              "      <td>193</td>\n",
              "      <td>193</td>\n",
              "      <td>193</td>\n",
              "      <td>193</td>\n",
              "      <td>193</td>\n",
              "      <td>192</td>\n",
              "      <td>198</td>\n",
              "      <td>193</td>\n",
              "      <td>...</td>\n",
              "      <td>215</td>\n",
              "      <td>214</td>\n",
              "      <td>214</td>\n",
              "      <td>213</td>\n",
              "      <td>213</td>\n",
              "      <td>213</td>\n",
              "      <td>213</td>\n",
              "      <td>213</td>\n",
              "      <td>213</td>\n",
              "      <td>212</td>\n",
              "    </tr>\n",
              "    <tr>\n",
              "      <th>27</th>\n",
              "      <td>178</td>\n",
              "      <td>178</td>\n",
              "      <td>179</td>\n",
              "      <td>180</td>\n",
              "      <td>181</td>\n",
              "      <td>182</td>\n",
              "      <td>183</td>\n",
              "      <td>183</td>\n",
              "      <td>190</td>\n",
              "      <td>184</td>\n",
              "      <td>...</td>\n",
              "      <td>202</td>\n",
              "      <td>202</td>\n",
              "      <td>202</td>\n",
              "      <td>202</td>\n",
              "      <td>202</td>\n",
              "      <td>202</td>\n",
              "      <td>202</td>\n",
              "      <td>202</td>\n",
              "      <td>202</td>\n",
              "      <td>202</td>\n",
              "    </tr>\n",
              "    <tr>\n",
              "      <th>28</th>\n",
              "      <td>191</td>\n",
              "      <td>194</td>\n",
              "      <td>188</td>\n",
              "      <td>185</td>\n",
              "      <td>190</td>\n",
              "      <td>188</td>\n",
              "      <td>186</td>\n",
              "      <td>191</td>\n",
              "      <td>193</td>\n",
              "      <td>192</td>\n",
              "      <td>...</td>\n",
              "      <td>200</td>\n",
              "      <td>200</td>\n",
              "      <td>201</td>\n",
              "      <td>201</td>\n",
              "      <td>199</td>\n",
              "      <td>197</td>\n",
              "      <td>198</td>\n",
              "      <td>198</td>\n",
              "      <td>198</td>\n",
              "      <td>198</td>\n",
              "    </tr>\n",
              "    <tr>\n",
              "      <th>29</th>\n",
              "      <td>191</td>\n",
              "      <td>190</td>\n",
              "      <td>191</td>\n",
              "      <td>190</td>\n",
              "      <td>188</td>\n",
              "      <td>185</td>\n",
              "      <td>186</td>\n",
              "      <td>189</td>\n",
              "      <td>191</td>\n",
              "      <td>184</td>\n",
              "      <td>...</td>\n",
              "      <td>194</td>\n",
              "      <td>194</td>\n",
              "      <td>195</td>\n",
              "      <td>196</td>\n",
              "      <td>195</td>\n",
              "      <td>194</td>\n",
              "      <td>193</td>\n",
              "      <td>193</td>\n",
              "      <td>192</td>\n",
              "      <td>191</td>\n",
              "    </tr>\n",
              "  </tbody>\n",
              "</table>\n",
              "<p>30 rows × 784 columns</p>\n",
              "</div>\n",
              "      <button class=\"colab-df-convert\" onclick=\"convertToInteractive('df-746c85be-c0c3-42c0-a0b6-4e0732b86e7c')\"\n",
              "              title=\"Convert this dataframe to an interactive table.\"\n",
              "              style=\"display:none;\">\n",
              "        \n",
              "  <svg xmlns=\"http://www.w3.org/2000/svg\" height=\"24px\"viewBox=\"0 0 24 24\"\n",
              "       width=\"24px\">\n",
              "    <path d=\"M0 0h24v24H0V0z\" fill=\"none\"/>\n",
              "    <path d=\"M18.56 5.44l.94 2.06.94-2.06 2.06-.94-2.06-.94-.94-2.06-.94 2.06-2.06.94zm-11 1L8.5 8.5l.94-2.06 2.06-.94-2.06-.94L8.5 2.5l-.94 2.06-2.06.94zm10 10l.94 2.06.94-2.06 2.06-.94-2.06-.94-.94-2.06-.94 2.06-2.06.94z\"/><path d=\"M17.41 7.96l-1.37-1.37c-.4-.4-.92-.59-1.43-.59-.52 0-1.04.2-1.43.59L10.3 9.45l-7.72 7.72c-.78.78-.78 2.05 0 2.83L4 21.41c.39.39.9.59 1.41.59.51 0 1.02-.2 1.41-.59l7.78-7.78 2.81-2.81c.8-.78.8-2.07 0-2.86zM5.41 20L4 18.59l7.72-7.72 1.47 1.35L5.41 20z\"/>\n",
              "  </svg>\n",
              "      </button>\n",
              "      \n",
              "  <style>\n",
              "    .colab-df-container {\n",
              "      display:flex;\n",
              "      flex-wrap:wrap;\n",
              "      gap: 12px;\n",
              "    }\n",
              "\n",
              "    .colab-df-convert {\n",
              "      background-color: #E8F0FE;\n",
              "      border: none;\n",
              "      border-radius: 50%;\n",
              "      cursor: pointer;\n",
              "      display: none;\n",
              "      fill: #1967D2;\n",
              "      height: 32px;\n",
              "      padding: 0 0 0 0;\n",
              "      width: 32px;\n",
              "    }\n",
              "\n",
              "    .colab-df-convert:hover {\n",
              "      background-color: #E2EBFA;\n",
              "      box-shadow: 0px 1px 2px rgba(60, 64, 67, 0.3), 0px 1px 3px 1px rgba(60, 64, 67, 0.15);\n",
              "      fill: #174EA6;\n",
              "    }\n",
              "\n",
              "    [theme=dark] .colab-df-convert {\n",
              "      background-color: #3B4455;\n",
              "      fill: #D2E3FC;\n",
              "    }\n",
              "\n",
              "    [theme=dark] .colab-df-convert:hover {\n",
              "      background-color: #434B5C;\n",
              "      box-shadow: 0px 1px 3px 1px rgba(0, 0, 0, 0.15);\n",
              "      filter: drop-shadow(0px 1px 2px rgba(0, 0, 0, 0.3));\n",
              "      fill: #FFFFFF;\n",
              "    }\n",
              "  </style>\n",
              "\n",
              "      <script>\n",
              "        const buttonEl =\n",
              "          document.querySelector('#df-746c85be-c0c3-42c0-a0b6-4e0732b86e7c button.colab-df-convert');\n",
              "        buttonEl.style.display =\n",
              "          google.colab.kernel.accessAllowed ? 'block' : 'none';\n",
              "\n",
              "        async function convertToInteractive(key) {\n",
              "          const element = document.querySelector('#df-746c85be-c0c3-42c0-a0b6-4e0732b86e7c');\n",
              "          const dataTable =\n",
              "            await google.colab.kernel.invokeFunction('convertToInteractive',\n",
              "                                                     [key], {});\n",
              "          if (!dataTable) return;\n",
              "\n",
              "          const docLinkHtml = 'Like what you see? Visit the ' +\n",
              "            '<a target=\"_blank\" href=https://colab.research.google.com/notebooks/data_table.ipynb>data table notebook</a>'\n",
              "            + ' to learn more about interactive tables.';\n",
              "          element.innerHTML = '';\n",
              "          dataTable['output_type'] = 'display_data';\n",
              "          await google.colab.output.renderOutput(dataTable, element);\n",
              "          const docLink = document.createElement('div');\n",
              "          docLink.innerHTML = docLinkHtml;\n",
              "          element.appendChild(docLink);\n",
              "        }\n",
              "      </script>\n",
              "    </div>\n",
              "  </div>\n",
              "  "
            ]
          },
          "metadata": {},
          "execution_count": 128
        }
      ],
      "source": [
        "# Preprocess X \n",
        "\n",
        "# Split the data into features and labels\n",
        "X=df.iloc[:,:-1]\n",
        "X"
      ]
    },
    {
      "cell_type": "code",
      "execution_count": 129,
      "metadata": {
        "colab": {
          "base_uri": "https://localhost:8080/",
          "height": 0
        },
        "id": "DgIZlH5Q0GzL",
        "outputId": "006755af-b399-4323-e12a-4af63c51ec24"
      },
      "outputs": [
        {
          "output_type": "execute_result",
          "data": {
            "text/plain": [
              "(30, 28, 28, 1)"
            ]
          },
          "metadata": {},
          "execution_count": 129
        }
      ],
      "source": [
        "X_4D=X.values.reshape(X.shape[0],28,28,1).astype('float32')\n",
        "X_4D.shape"
      ]
    },
    {
      "cell_type": "code",
      "execution_count": 130,
      "metadata": {
        "colab": {
          "base_uri": "https://localhost:8080/",
          "height": 454
        },
        "id": "yVGik9EM0I4i",
        "outputId": "52d3a7cb-cf83-450e-e0fc-b12db143c328"
      },
      "outputs": [
        {
          "output_type": "execute_result",
          "data": {
            "text/plain": [
              "<matplotlib.image.AxesImage at 0x7fc0af48b820>"
            ]
          },
          "metadata": {},
          "execution_count": 130
        },
        {
          "output_type": "display_data",
          "data": {
            "text/plain": [
              "<Figure size 480x480 with 1 Axes>"
            ],
            "image/png": "[encoded data removed]"
          },
          "metadata": {}
        }
      ],
      "source": [
        "plt.matshow(X_4D[0])"
      ]
    },
    {
      "cell_type": "code",
      "execution_count": 131,
      "metadata": {
        "id": "NBE8pdKY0Ren"
      },
      "outputs": [],
      "source": [
        "# normalizing X\n",
        "X_4D=X_4D/255"
      ]
    },
    {
      "cell_type": "code",
      "execution_count": 132,
      "metadata": {
        "id": "zItbzs1G03Hb"
      },
      "outputs": [],
      "source": [
        "# OneHot Y\n",
        "y_OneHot=to_categorical(y)"
      ]
    },
    {
      "cell_type": "code",
      "execution_count": 133,
      "metadata": {
        "colab": {
          "base_uri": "https://localhost:8080/",
          "height": 0
        },
        "id": "kpa-cfAi0-c4",
        "outputId": "69474ef0-7e12-4f12-e9cb-bed3f70ce481"
      },
      "outputs": [
        {
          "output_type": "execute_result",
          "data": {
            "text/plain": [
              "array([[0., 0., 0., 0., 0., 0., 1., 0., 0., 0.],\n",
              "       [0., 0., 0., 0., 0., 0., 1., 0., 0., 0.],\n",
              "       [0., 0., 0., 0., 0., 0., 1., 0., 0., 0.],\n",
              "       [0., 0., 0., 0., 0., 0., 0., 0., 0., 1.],\n",
              "       [0., 0., 0., 0., 0., 0., 0., 0., 0., 1.],\n",
              "       [0., 0., 0., 0., 0., 0., 0., 0., 0., 1.],\n",
              "       [0., 0., 0., 0., 0., 1., 0., 0., 0., 0.],\n",
              "       [0., 0., 0., 0., 0., 1., 0., 0., 0., 0.],\n",
              "       [0., 0., 0., 0., 0., 1., 0., 0., 0., 0.],\n",
              "       [0., 0., 0., 0., 0., 0., 0., 0., 1., 0.],\n",
              "       [0., 0., 0., 0., 0., 0., 0., 0., 1., 0.],\n",
              "       [0., 0., 0., 0., 0., 0., 0., 0., 1., 0.],\n",
              "       [0., 0., 0., 0., 1., 0., 0., 0., 0., 0.],\n",
              "       [0., 0., 0., 0., 1., 0., 0., 0., 0., 0.],\n",
              "       [0., 0., 0., 0., 1., 0., 0., 0., 0., 0.],\n",
              "       [0., 0., 0., 1., 0., 0., 0., 0., 0., 0.],\n",
              "       [0., 0., 0., 1., 0., 0., 0., 0., 0., 0.],\n",
              "       [0., 0., 0., 1., 0., 0., 0., 0., 0., 0.],\n",
              "       [1., 0., 0., 0., 0., 0., 0., 0., 0., 0.],\n",
              "       [1., 0., 0., 0., 0., 0., 0., 0., 0., 0.],\n",
              "       [1., 0., 0., 0., 0., 0., 0., 0., 0., 0.],\n",
              "       [0., 1., 0., 0., 0., 0., 0., 0., 0., 0.],\n",
              "       [0., 1., 0., 0., 0., 0., 0., 0., 0., 0.],\n",
              "       [0., 1., 0., 0., 0., 0., 0., 0., 0., 0.],\n",
              "       [0., 0., 0., 0., 0., 0., 0., 1., 0., 0.],\n",
              "       [0., 0., 0., 0., 0., 0., 0., 1., 0., 0.],\n",
              "       [0., 0., 0., 0., 0., 0., 0., 1., 0., 0.],\n",
              "       [0., 0., 1., 0., 0., 0., 0., 0., 0., 0.],\n",
              "       [0., 0., 1., 0., 0., 0., 0., 0., 0., 0.],\n",
              "       [0., 0., 1., 0., 0., 0., 0., 0., 0., 0.]], dtype=float32)"
            ]
          },
          "metadata": {},
          "execution_count": 133
        }
      ],
      "source": [
        "y_OneHot"
      ]
    },
    {
      "cell_type": "code",
      "source": [
        "y_predicted_my=model.predict(X_4D)\n",
        "y_predicted_my"
      ],
      "metadata": {
        "colab": {
          "base_uri": "https://localhost:8080/",
          "height": 0
        },
        "id": "KvY8uQa56ncr",
        "outputId": "7c877a16-1e5c-4aa8-b3f0-ee1bd4fb1313"
      },
      "execution_count": 134,
      "outputs": [
        {
          "output_type": "stream",
          "name": "stdout",
          "text": [
            "1/1 [==============================] - 0s 17ms/step\n"
          ]
        },
        {
          "output_type": "execute_result",
          "data": {
            "text/plain": [
              "array([[4.15613409e-03, 1.76047161e-03, 2.39391848e-02, 7.63736010e-01,\n",
              "        1.58651848e-04, 9.00106505e-02, 1.61719862e-02, 3.97167896e-05,\n",
              "        9.04560536e-02, 9.57108568e-03],\n",
              "       [1.10265743e-02, 6.87452033e-03, 7.86684230e-02, 5.13871968e-01,\n",
              "        5.37876913e-04, 1.72341034e-01, 4.27005216e-02, 1.65625053e-04,\n",
              "        1.60947993e-01, 1.28654717e-02],\n",
              "       [1.95658784e-02, 1.07112965e-02, 8.57742727e-02, 4.61388409e-01,\n",
              "        2.01019295e-03, 2.75604606e-01, 3.20130996e-02, 5.06075565e-04,\n",
              "        8.51810798e-02, 2.72450577e-02],\n",
              "       [1.12702949e-02, 1.23115089e-02, 2.29109153e-01, 2.67469168e-01,\n",
              "        1.27373938e-03, 6.40030280e-02, 2.61315163e-02, 3.19656916e-04,\n",
              "        3.74195606e-01, 1.39163341e-02],\n",
              "       [3.37090977e-02, 1.45623786e-02, 2.25626588e-01, 2.30559662e-01,\n",
              "        2.47001043e-03, 1.01467498e-01, 7.48532712e-02, 4.23572405e-04,\n",
              "        2.83815354e-01, 3.25125270e-02],\n",
              "       [4.41178158e-02, 9.50423721e-03, 3.45170051e-01, 1.32539466e-01,\n",
              "        2.63782986e-03, 1.01953566e-01, 2.79205926e-02, 5.69434953e-04,\n",
              "        2.97064751e-01, 3.85222137e-02],\n",
              "       [5.03392983e-03, 2.28636991e-03, 3.67476605e-02, 2.97271162e-01,\n",
              "        1.64683952e-04, 5.27782142e-01, 5.68974130e-02, 1.17650095e-04,\n",
              "        6.44330159e-02, 9.26599558e-03],\n",
              "       [5.74389379e-03, 2.38160766e-03, 4.46150154e-02, 1.54730558e-01,\n",
              "        3.51864175e-04, 5.70940018e-01, 8.15725699e-02, 1.64508267e-04,\n",
              "        1.33118108e-01, 6.38186373e-03],\n",
              "       [5.10735950e-03, 7.22781476e-03, 2.74287798e-02, 1.73109755e-01,\n",
              "        1.54509989e-03, 6.05288923e-01, 7.53068998e-02, 4.87944548e-04,\n",
              "        8.92714262e-02, 1.52260782e-02],\n",
              "       [2.13134717e-02, 1.27410693e-02, 8.26976746e-02, 2.99413890e-01,\n",
              "        2.58050347e-03, 2.56874233e-01, 1.06121957e-01, 4.35088878e-04,\n",
              "        1.98707938e-01, 1.91141833e-02],\n",
              "       [2.05497574e-02, 1.29778357e-02, 1.05290227e-01, 3.59927267e-01,\n",
              "        1.31979748e-03, 1.64497748e-01, 8.72786269e-02, 3.53928306e-04,\n",
              "        2.25640073e-01, 2.21647266e-02],\n",
              "       [1.65742766e-02, 1.06281955e-02, 8.32933560e-02, 3.00594509e-01,\n",
              "        9.77808842e-04, 3.08235288e-01, 6.98552355e-02, 3.07282113e-04,\n",
              "        1.89725727e-01, 1.98082812e-02],\n",
              "       [4.10937844e-03, 1.22033963e-02, 5.90476692e-02, 1.78617224e-01,\n",
              "        3.57270823e-03, 2.24366456e-01, 1.47124335e-01, 3.15810234e-04,\n",
              "        3.64804119e-01, 5.83883608e-03],\n",
              "       [9.24425758e-03, 1.12885442e-02, 9.20878053e-02, 3.08444887e-01,\n",
              "        1.36956316e-03, 2.21511528e-01, 1.33582249e-01, 2.07146746e-04,\n",
              "        2.16201678e-01, 6.06230088e-03],\n",
              "       [3.59579222e-03, 8.42797104e-03, 6.40341938e-02, 3.82030576e-01,\n",
              "        1.60593097e-03, 3.35435122e-01, 3.05270590e-02, 3.10494303e-04,\n",
              "        1.67046249e-01, 6.98668510e-03],\n",
              "       [1.90160354e-03, 3.66501685e-04, 4.65182811e-02, 8.65303457e-01,\n",
              "        2.79871947e-05, 5.66602945e-02, 3.84481205e-03, 2.80796194e-05,\n",
              "        1.66026503e-02, 8.74638651e-03],\n",
              "       [6.21601986e-03, 2.82796216e-03, 3.07010412e-02, 2.73155302e-01,\n",
              "        4.29326639e-04, 3.80641967e-01, 6.63990974e-02, 1.91546045e-04,\n",
              "        2.31093451e-01, 8.34427588e-03],\n",
              "       [4.61512106e-03, 1.88128196e-03, 3.61089744e-02, 6.88456893e-01,\n",
              "        2.77662366e-05, 1.72342107e-01, 3.95792834e-02, 2.68196181e-05,\n",
              "        5.42076156e-02, 2.75429478e-03],\n",
              "       [3.64181362e-02, 5.36170043e-03, 1.88533396e-01, 5.20085633e-01,\n",
              "        2.89399584e-04, 7.11830780e-02, 1.65542439e-02, 1.92661944e-04,\n",
              "        1.28110543e-01, 3.32712829e-02],\n",
              "       [1.80496778e-02, 1.68084819e-02, 1.00334510e-01, 3.95566612e-01,\n",
              "        2.14427360e-03, 2.48613641e-01, 9.27066356e-02, 4.76567744e-04,\n",
              "        1.08988963e-01, 1.63106788e-02],\n",
              "       [1.27166500e-02, 5.78107499e-03, 7.94363916e-02, 5.25336564e-01,\n",
              "        2.12581595e-04, 1.70098901e-01, 6.71159998e-02, 8.21974972e-05,\n",
              "        1.18890218e-01, 2.03294381e-02],\n",
              "       [1.86737180e-02, 1.54608609e-02, 1.11293413e-01, 3.32883507e-01,\n",
              "        2.42115534e-03, 1.84161693e-01, 1.06243022e-01, 3.31138377e-04,\n",
              "        2.20429361e-01, 8.10210779e-03],\n",
              "       [3.92710902e-02, 2.28775777e-02, 1.80189908e-01, 1.65020317e-01,\n",
              "        3.76439630e-03, 1.30596831e-01, 1.48497775e-01, 5.28332486e-04,\n",
              "        2.96354979e-01, 1.28987683e-02],\n",
              "       [2.00424604e-02, 1.63742863e-02, 1.30650938e-01, 2.63371974e-01,\n",
              "        1.75050949e-03, 1.73436478e-01, 1.37679368e-01, 3.47432215e-04,\n",
              "        2.35177174e-01, 2.11693961e-02],\n",
              "       [1.90339219e-02, 1.42187327e-02, 8.10318142e-02, 2.93249577e-01,\n",
              "        9.79403965e-04, 1.51455864e-01, 9.79521200e-02, 3.82617058e-04,\n",
              "        3.20084542e-01, 2.16113422e-02],\n",
              "       [1.71926785e-02, 1.47413807e-02, 8.97560269e-02, 3.03717136e-01,\n",
              "        5.18825022e-04, 1.71217561e-01, 1.09528311e-01, 4.44987643e-04,\n",
              "        2.76490062e-01, 1.63929984e-02],\n",
              "       [1.45925609e-02, 1.03578670e-02, 8.75692219e-02, 4.62050885e-01,\n",
              "        6.69740431e-04, 1.32098526e-01, 4.21144702e-02, 2.83113885e-04,\n",
              "        2.28949040e-01, 2.13146415e-02],\n",
              "       [2.91011427e-02, 3.74545064e-03, 2.11195648e-01, 3.32252681e-02,\n",
              "        8.33758677e-04, 1.27550408e-01, 2.05214377e-02, 5.29247511e-04,\n",
              "        5.64739108e-01, 8.55852570e-03],\n",
              "       [7.14698480e-03, 2.28860462e-03, 2.65851945e-01, 4.49807823e-01,\n",
              "        5.71019773e-05, 3.56211253e-02, 7.68657634e-03, 1.32513465e-04,\n",
              "        2.26174355e-01, 5.23303077e-03],\n",
              "       [1.21632703e-02, 2.10676994e-03, 6.67620778e-01, 1.35357544e-01,\n",
              "        1.58510549e-04, 3.70677672e-02, 7.55124073e-03, 8.18651752e-05,\n",
              "        9.72329527e-02, 4.06592526e-02]], dtype=float32)"
            ]
          },
          "metadata": {},
          "execution_count": 134
        }
      ]
    },
    {
      "cell_type": "code",
      "source": [
        "y_predicted_my_labels=[np.argmax(i) for i in y_predicted_my]"
      ],
      "metadata": {
        "id": "oX7fDlt56-_b"
      },
      "execution_count": 135,
      "outputs": []
    },
    {
      "cell_type": "code",
      "execution_count": 136,
      "metadata": {
        "colab": {
          "base_uri": "https://localhost:8080/",
          "height": 0
        },
        "id": "IjTKnJTY1aQq",
        "outputId": "7948246e-84a4-49cd-a7ab-ff2606720991"
      },
      "outputs": [
        {
          "output_type": "stream",
          "name": "stdout",
          "text": [
            "1/1 [==============================] - 0s 20ms/step\n"
          ]
        },
        {
          "output_type": "execute_result",
          "data": {
            "text/plain": [
              "array([4.1561341e-03, 1.7604716e-03, 2.3939185e-02, 7.6373601e-01,\n",
              "       1.5865185e-04, 9.0010650e-02, 1.6171986e-02, 3.9716790e-05,\n",
              "       9.0456054e-02, 9.5710857e-03], dtype=float32)"
            ]
          },
          "metadata": {},
          "execution_count": 136
        }
      ],
      "source": [
        "y_p=model.predict(X_4D)\n",
        "y_p[0]"
      ]
    },
    {
      "cell_type": "code",
      "execution_count": 137,
      "metadata": {
        "colab": {
          "base_uri": "https://localhost:8080/",
          "height": 0
        },
        "id": "yUAGMkFN2Fpg",
        "outputId": "8307f847-a32f-46d9-e206-49e3b79056a0"
      },
      "outputs": [
        {
          "output_type": "execute_result",
          "data": {
            "text/plain": [
              "array([0., 0., 0., 0., 0., 0., 1., 0., 0., 0.], dtype=float32)"
            ]
          },
          "metadata": {},
          "execution_count": 137
        }
      ],
      "source": [
        "y_OneHot[0]"
      ]
    },
    {
      "cell_type": "code",
      "execution_count": 138,
      "metadata": {
        "colab": {
          "base_uri": "https://localhost:8080/",
          "height": 0
        },
        "id": "rsVuJHU52Oj9",
        "outputId": "1567a548-11c9-46d4-a866-c00edd393dc5"
      },
      "outputs": [
        {
          "output_type": "stream",
          "name": "stdout",
          "text": [
            "1/1 [==============================] - 0s 26ms/step - loss: 3.3138 - accuracy: 0.2000\n"
          ]
        },
        {
          "output_type": "execute_result",
          "data": {
            "text/plain": [
              "[3.313786029815674, 0.20000000298023224]"
            ]
          },
          "metadata": {},
          "execution_count": 138
        }
      ],
      "source": [
        "model.evaluate(X_4D,y_OneHot)"
      ]
    },
    {
      "cell_type": "code",
      "source": [
        "model2.evaluate(X_4D,y_OneHot)"
      ],
      "metadata": {
        "colab": {
          "base_uri": "https://localhost:8080/",
          "height": 0
        },
        "id": "C8OCHbWhex1A",
        "outputId": "ff018c3c-9c66-42b2-8831-ad9aac020f11"
      },
      "execution_count": 139,
      "outputs": [
        {
          "output_type": "stream",
          "name": "stdout",
          "text": [
            "1/1 [==============================] - 0s 26ms/step - loss: 8.5945 - accuracy: 0.1000\n"
          ]
        },
        {
          "output_type": "execute_result",
          "data": {
            "text/plain": [
              "[8.594500541687012, 0.10000000149011612]"
            ]
          },
          "metadata": {},
          "execution_count": 139
        }
      ]
    },
    {
      "cell_type": "code",
      "source": [
        "model3.evaluate(X_4D,y_OneHot)"
      ],
      "metadata": {
        "colab": {
          "base_uri": "https://localhost:8080/",
          "height": 0
        },
        "id": "8_i4tEM6eyOd",
        "outputId": "11ca3fbc-6bab-4ef4-e883-2fcf6225fe6a"
      },
      "execution_count": 140,
      "outputs": [
        {
          "output_type": "stream",
          "name": "stdout",
          "text": [
            "1/1 [==============================] - 0s 25ms/step - loss: 5.2804 - accuracy: 0.1000\n"
          ]
        },
        {
          "output_type": "execute_result",
          "data": {
            "text/plain": [
              "[5.280363082885742, 0.10000000149011612]"
            ]
          },
          "metadata": {},
          "execution_count": 140
        }
      ]
    },
    {
      "cell_type": "markdown",
      "source": [
        "The training loss is still quite significant, but given my limited knowledge, I can not come up with a proper fix to reduce the loss as small as possible. Therefore, I just accessed the evaluation in terms of accuracy. Model 1 generate slightly better prediction performance with 0.2 on my handwritten digit while model 1 and 2 has similar accuracy of 0.10\n",
        "\n"
      ],
      "metadata": {
        "id": "eP19eV6We7gm"
      }
    },
    {
      "cell_type": "code",
      "execution_count": 141,
      "metadata": {
        "colab": {
          "base_uri": "https://localhost:8080/",
          "height": 0
        },
        "id": "jCanttI23HoJ",
        "outputId": "e2b5965b-2538-47a5-88fd-0919a60ca9ae"
      },
      "outputs": [
        {
          "output_type": "execute_result",
          "data": {
            "text/plain": [
              "[3, 3, 3, 8, 8]"
            ]
          },
          "metadata": {},
          "execution_count": 141
        }
      ],
      "source": [
        "y_p_labels=[np.argmax(i)for i in y_p]\n",
        "y_p_labels[:5]"
      ]
    },
    {
      "cell_type": "code",
      "source": [
        "y"
      ],
      "metadata": {
        "colab": {
          "base_uri": "https://localhost:8080/",
          "height": 0
        },
        "id": "qgktMkqG5631",
        "outputId": "e3b9e1c7-f997-4515-d164-ebb3ba8cfaaa"
      },
      "execution_count": 142,
      "outputs": [
        {
          "output_type": "execute_result",
          "data": {
            "text/plain": [
              "array([6, 6, 6, 9, 9, 9, 5, 5, 5, 8, 8, 8, 4, 4, 4, 3, 3, 3, 0, 0, 0, 1,\n",
              "       1, 1, 7, 7, 7, 2, 2, 2])"
            ]
          },
          "metadata": {},
          "execution_count": 142
        }
      ]
    },
    {
      "cell_type": "code",
      "execution_count": 143,
      "metadata": {
        "colab": {
          "base_uri": "https://localhost:8080/",
          "height": 0
        },
        "id": "2NTtFFZY3d1a",
        "outputId": "0b5b08be-a325-497e-e7c0-2e5229556fcb"
      },
      "outputs": [
        {
          "output_type": "execute_result",
          "data": {
            "text/plain": [
              "<tf.Tensor: shape=(10, 10), dtype=int32, numpy=\n",
              "array([[0, 0, 0, 3, 0, 0, 0, 0, 0, 0],\n",
              "       [0, 0, 0, 2, 0, 0, 0, 0, 1, 0],\n",
              "       [0, 0, 1, 1, 0, 0, 0, 0, 1, 0],\n",
              "       [0, 0, 0, 2, 0, 1, 0, 0, 0, 0],\n",
              "       [0, 0, 0, 2, 0, 0, 0, 0, 1, 0],\n",
              "       [0, 0, 0, 0, 0, 3, 0, 0, 0, 0],\n",
              "       [0, 0, 0, 3, 0, 0, 0, 0, 0, 0],\n",
              "       [0, 0, 0, 2, 0, 0, 0, 0, 1, 0],\n",
              "       [0, 0, 0, 2, 0, 1, 0, 0, 0, 0],\n",
              "       [0, 0, 1, 0, 0, 0, 0, 0, 2, 0]], dtype=int32)>"
            ]
          },
          "metadata": {},
          "execution_count": 143
        }
      ],
      "source": [
        "cm_my=tf.math.confusion_matrix(labels=y, predictions=y_p_labels)\n",
        "cm_my"
      ]
    },
    {
      "cell_type": "code",
      "execution_count": 144,
      "metadata": {
        "colab": {
          "base_uri": "https://localhost:8080/",
          "height": 641
        },
        "id": "CD23T2rT3g29",
        "outputId": "b6c2ea03-40d7-4c90-ecd1-7ad1d7cb0462"
      },
      "outputs": [
        {
          "output_type": "execute_result",
          "data": {
            "text/plain": [
              "Text(95.72222222222221, 0.5, 'Truth')"
            ]
          },
          "metadata": {},
          "execution_count": 144
        },
        {
          "output_type": "display_data",
          "data": {
            "text/plain": [
              "<Figure size 1000x700 with 2 Axes>"
            ],
            "image/png": "[encoded data removed]"
          },
          "metadata": {}
        }
      ],
      "source": [
        "# visulaize the cm_my\n",
        "import seaborn as sn\n",
        "plt.figure(figsize=(10,7))\n",
        "sn.heatmap(cm_my,annot=True, fmt='d')\n",
        "plt.xlabel('predicted')\n",
        "plt.ylabel('Truth')"
      ]
    },
    {
      "cell_type": "code",
      "source": [
        "# print the classification report ot see precision, recall and f1 as well\n",
        "from sklearn.metrics import classification_report\n",
        "print(\"Classification Report: \\n\", classification_report(y, y_p_labels))"
      ],
      "metadata": {
        "colab": {
          "base_uri": "https://localhost:8080/",
          "height": 0
        },
        "id": "bjhYIwSkwQfP",
        "outputId": "674bf990-83ea-4cb0-e6e0-2174f9d73bdc"
      },
      "execution_count": 145,
      "outputs": [
        {
          "output_type": "stream",
          "name": "stdout",
          "text": [
            "Classification Report: \n",
            "               precision    recall  f1-score   support\n",
            "\n",
            "           0       0.00      0.00      0.00         3\n",
            "           1       0.00      0.00      0.00         3\n",
            "           2       0.50      0.33      0.40         3\n",
            "           3       0.12      0.67      0.20         3\n",
            "           4       0.00      0.00      0.00         3\n",
            "           5       0.60      1.00      0.75         3\n",
            "           6       0.00      0.00      0.00         3\n",
            "           7       0.00      0.00      0.00         3\n",
            "           8       0.00      0.00      0.00         3\n",
            "           9       0.00      0.00      0.00         3\n",
            "\n",
            "    accuracy                           0.20        30\n",
            "   macro avg       0.12      0.20      0.14        30\n",
            "weighted avg       0.12      0.20      0.13        30\n",
            "\n"
          ]
        },
        {
          "output_type": "stream",
          "name": "stderr",
          "text": [
            "/usr/local/lib/python3.10/dist-packages/sklearn/metrics/_classification.py:1344: UndefinedMetricWarning: Precision and F-score are ill-defined and being set to 0.0 in labels with no predicted samples. Use `zero_division` parameter to control this behavior.\n",
            "  _warn_prf(average, modifier, msg_start, len(result))\n",
            "/usr/local/lib/python3.10/dist-packages/sklearn/metrics/_classification.py:1344: UndefinedMetricWarning: Precision and F-score are ill-defined and being set to 0.0 in labels with no predicted samples. Use `zero_division` parameter to control this behavior.\n",
            "  _warn_prf(average, modifier, msg_start, len(result))\n",
            "/usr/local/lib/python3.10/dist-packages/sklearn/metrics/_classification.py:1344: UndefinedMetricWarning: Precision and F-score are ill-defined and being set to 0.0 in labels with no predicted samples. Use `zero_division` parameter to control this behavior.\n",
            "  _warn_prf(average, modifier, msg_start, len(result))\n"
          ]
        }
      ]
    },
    {
      "cell_type": "markdown",
      "source": [
        "# Evaluate on the rest of the models"
      ],
      "metadata": {
        "id": "7K_u9LJu5X1O"
      }
    },
    {
      "cell_type": "code",
      "source": [
        "# second model evaluation\n",
        "y_p2=model2.predict(X_4D)\n",
        "y_p2_labels=[np.argmax(i)for i in y_p2]"
      ],
      "metadata": {
        "colab": {
          "base_uri": "https://localhost:8080/",
          "height": 0
        },
        "id": "SFhu_tLv5laU",
        "outputId": "88feebab-517f-4bb5-a98a-e7f18622c5b4"
      },
      "execution_count": 146,
      "outputs": [
        {
          "output_type": "stream",
          "name": "stdout",
          "text": [
            "1/1 [==============================] - 0s 21ms/step\n"
          ]
        }
      ]
    },
    {
      "cell_type": "code",
      "source": [
        "cm_my2=tf.math.confusion_matrix(labels=y, predictions=y_p2_labels)\n",
        "cm_my2"
      ],
      "metadata": {
        "colab": {
          "base_uri": "https://localhost:8080/",
          "height": 0
        },
        "id": "avaKZmXYul_w",
        "outputId": "52982193-9685-4d9c-f3df-20572206aa13"
      },
      "execution_count": 147,
      "outputs": [
        {
          "output_type": "execute_result",
          "data": {
            "text/plain": [
              "<tf.Tensor: shape=(10, 10), dtype=int32, numpy=\n",
              "array([[3, 0, 0, 0, 0, 0, 0, 0, 0, 0],\n",
              "       [3, 0, 0, 0, 0, 0, 0, 0, 0, 0],\n",
              "       [3, 0, 0, 0, 0, 0, 0, 0, 0, 0],\n",
              "       [1, 0, 0, 0, 0, 0, 1, 0, 1, 0],\n",
              "       [3, 0, 0, 0, 0, 0, 0, 0, 0, 0],\n",
              "       [3, 0, 0, 0, 0, 0, 0, 0, 0, 0],\n",
              "       [3, 0, 0, 0, 0, 0, 0, 0, 0, 0],\n",
              "       [3, 0, 0, 0, 0, 0, 0, 0, 0, 0],\n",
              "       [3, 0, 0, 0, 0, 0, 0, 0, 0, 0],\n",
              "       [3, 0, 0, 0, 0, 0, 0, 0, 0, 0]], dtype=int32)>"
            ]
          },
          "metadata": {},
          "execution_count": 147
        }
      ]
    },
    {
      "cell_type": "code",
      "source": [
        "# visulaize the cm_my\n",
        "import seaborn as sn\n",
        "plt.figure(figsize=(10,7))\n",
        "sn.heatmap(cm_my2,annot=True, fmt='d')\n",
        "plt.xlabel('predicted')\n",
        "plt.ylabel('Truth')"
      ],
      "metadata": {
        "colab": {
          "base_uri": "https://localhost:8080/",
          "height": 641
        },
        "id": "pA45KPyBumG3",
        "outputId": "8f048a30-6876-41c2-ab30-a806eea67e9e"
      },
      "execution_count": 148,
      "outputs": [
        {
          "output_type": "execute_result",
          "data": {
            "text/plain": [
              "Text(95.72222222222221, 0.5, 'Truth')"
            ]
          },
          "metadata": {},
          "execution_count": 148
        },
        {
          "output_type": "display_data",
          "data": {
            "text/plain": [
              "<Figure size 1000x700 with 2 Axes>"
            ],
            "image/png": "[encoded data removed]"
          },
          "metadata": {}
        }
      ]
    },
    {
      "cell_type": "code",
      "source": [
        "# print the classification report ot see precision, recall and f1 as well\n",
        "from sklearn.metrics import classification_report\n",
        "print(\"Classification Report: \\n\", classification_report(y, y_p2_labels))"
      ],
      "metadata": {
        "colab": {
          "base_uri": "https://localhost:8080/",
          "height": 0
        },
        "id": "BeRGEWppumPP",
        "outputId": "585b3cba-d6b7-437f-a7ef-c3bb7413b4c7"
      },
      "execution_count": 149,
      "outputs": [
        {
          "output_type": "stream",
          "name": "stdout",
          "text": [
            "Classification Report: \n",
            "               precision    recall  f1-score   support\n",
            "\n",
            "           0       0.11      1.00      0.19         3\n",
            "           1       0.00      0.00      0.00         3\n",
            "           2       0.00      0.00      0.00         3\n",
            "           3       0.00      0.00      0.00         3\n",
            "           4       0.00      0.00      0.00         3\n",
            "           5       0.00      0.00      0.00         3\n",
            "           6       0.00      0.00      0.00         3\n",
            "           7       0.00      0.00      0.00         3\n",
            "           8       0.00      0.00      0.00         3\n",
            "           9       0.00      0.00      0.00         3\n",
            "\n",
            "    accuracy                           0.10        30\n",
            "   macro avg       0.01      0.10      0.02        30\n",
            "weighted avg       0.01      0.10      0.02        30\n",
            "\n"
          ]
        },
        {
          "output_type": "stream",
          "name": "stderr",
          "text": [
            "/usr/local/lib/python3.10/dist-packages/sklearn/metrics/_classification.py:1344: UndefinedMetricWarning: Precision and F-score are ill-defined and being set to 0.0 in labels with no predicted samples. Use `zero_division` parameter to control this behavior.\n",
            "  _warn_prf(average, modifier, msg_start, len(result))\n",
            "/usr/local/lib/python3.10/dist-packages/sklearn/metrics/_classification.py:1344: UndefinedMetricWarning: Precision and F-score are ill-defined and being set to 0.0 in labels with no predicted samples. Use `zero_division` parameter to control this behavior.\n",
            "  _warn_prf(average, modifier, msg_start, len(result))\n",
            "/usr/local/lib/python3.10/dist-packages/sklearn/metrics/_classification.py:1344: UndefinedMetricWarning: Precision and F-score are ill-defined and being set to 0.0 in labels with no predicted samples. Use `zero_division` parameter to control this behavior.\n",
            "  _warn_prf(average, modifier, msg_start, len(result))\n"
          ]
        }
      ]
    },
    {
      "cell_type": "markdown",
      "source": [
        "The recall classification report on model2 aligns with the confusion matrix, since we learn from the confusion matrix that model2 would classify any seen record as digit 0."
      ],
      "metadata": {
        "id": "A8Vd3yYm3KTR"
      }
    },
    {
      "cell_type": "code",
      "source": [
        "# third model evaluation\n",
        "y_p3=model3.predict(X_4D)\n",
        "y_p3_labels=[np.argmax(i)for i in y_p3]"
      ],
      "metadata": {
        "colab": {
          "base_uri": "https://localhost:8080/",
          "height": 0
        },
        "id": "NPVXcPTyumUY",
        "outputId": "1708b5b8-e8bc-4d50-d9ce-65aa9a6a1155"
      },
      "execution_count": 150,
      "outputs": [
        {
          "output_type": "stream",
          "name": "stdout",
          "text": [
            "1/1 [==============================] - 0s 19ms/step\n"
          ]
        }
      ]
    },
    {
      "cell_type": "code",
      "source": [
        "cm_my3=tf.math.confusion_matrix(labels=y, predictions=y_p3_labels)\n",
        "cm_my3"
      ],
      "metadata": {
        "colab": {
          "base_uri": "https://localhost:8080/",
          "height": 0
        },
        "id": "lT7KlzlxumYD",
        "outputId": "33092cf4-d308-42ba-bb39-eaf442e35937"
      },
      "execution_count": 151,
      "outputs": [
        {
          "output_type": "execute_result",
          "data": {
            "text/plain": [
              "<tf.Tensor: shape=(10, 10), dtype=int32, numpy=\n",
              "array([[0, 0, 0, 3, 0, 0, 0, 0, 0, 0],\n",
              "       [0, 0, 0, 3, 0, 0, 0, 0, 0, 0],\n",
              "       [0, 0, 0, 3, 0, 0, 0, 0, 0, 0],\n",
              "       [0, 0, 0, 3, 0, 0, 0, 0, 0, 0],\n",
              "       [0, 0, 0, 3, 0, 0, 0, 0, 0, 0],\n",
              "       [0, 0, 0, 3, 0, 0, 0, 0, 0, 0],\n",
              "       [0, 0, 0, 3, 0, 0, 0, 0, 0, 0],\n",
              "       [0, 0, 0, 3, 0, 0, 0, 0, 0, 0],\n",
              "       [0, 0, 0, 3, 0, 0, 0, 0, 0, 0],\n",
              "       [0, 0, 0, 3, 0, 0, 0, 0, 0, 0]], dtype=int32)>"
            ]
          },
          "metadata": {},
          "execution_count": 151
        }
      ]
    },
    {
      "cell_type": "code",
      "source": [
        "# visulaize the cm_my3\n",
        "import seaborn as sn\n",
        "plt.figure(figsize=(10,7))\n",
        "sn.heatmap(cm_my3,annot=True, fmt='d')\n",
        "plt.xlabel('predicted')\n",
        "plt.ylabel('Truth')"
      ],
      "metadata": {
        "colab": {
          "base_uri": "https://localhost:8080/",
          "height": 641
        },
        "id": "XBlDQNC3w9wf",
        "outputId": "2069db73-922a-44ff-9b17-e8782d1f1b4b"
      },
      "execution_count": 152,
      "outputs": [
        {
          "output_type": "execute_result",
          "data": {
            "text/plain": [
              "Text(95.72222222222221, 0.5, 'Truth')"
            ]
          },
          "metadata": {},
          "execution_count": 152
        },
        {
          "output_type": "display_data",
          "data": {
            "text/plain": [
              "<Figure size 1000x700 with 2 Axes>"
            ],
            "image/png": "[encoded data removed]"
          },
          "metadata": {}
        }
      ]
    },
    {
      "cell_type": "markdown",
      "source": [
        "The confusion matrix above implies model 3 would classify all my handwritten digit as 3"
      ],
      "metadata": {
        "id": "JBqknPSGCHFf"
      }
    },
    {
      "cell_type": "code",
      "source": [
        "# print the classification report ot see precision, recall and f1 as well\n",
        "from sklearn.metrics import classification_report\n",
        "print(\"Classification Report: \\n\", classification_report(y, y_p3_labels))"
      ],
      "metadata": {
        "colab": {
          "base_uri": "https://localhost:8080/",
          "height": 0
        },
        "id": "8NkaiGVKw93Y",
        "outputId": "9e1f8f2d-6ac9-4da2-96d4-a371a1bbc04b"
      },
      "execution_count": 153,
      "outputs": [
        {
          "output_type": "stream",
          "name": "stdout",
          "text": [
            "Classification Report: \n",
            "               precision    recall  f1-score   support\n",
            "\n",
            "           0       0.00      0.00      0.00         3\n",
            "           1       0.00      0.00      0.00         3\n",
            "           2       0.00      0.00      0.00         3\n",
            "           3       0.10      1.00      0.18         3\n",
            "           4       0.00      0.00      0.00         3\n",
            "           5       0.00      0.00      0.00         3\n",
            "           6       0.00      0.00      0.00         3\n",
            "           7       0.00      0.00      0.00         3\n",
            "           8       0.00      0.00      0.00         3\n",
            "           9       0.00      0.00      0.00         3\n",
            "\n",
            "    accuracy                           0.10        30\n",
            "   macro avg       0.01      0.10      0.02        30\n",
            "weighted avg       0.01      0.10      0.02        30\n",
            "\n"
          ]
        },
        {
          "output_type": "stream",
          "name": "stderr",
          "text": [
            "/usr/local/lib/python3.10/dist-packages/sklearn/metrics/_classification.py:1344: UndefinedMetricWarning: Precision and F-score are ill-defined and being set to 0.0 in labels with no predicted samples. Use `zero_division` parameter to control this behavior.\n",
            "  _warn_prf(average, modifier, msg_start, len(result))\n",
            "/usr/local/lib/python3.10/dist-packages/sklearn/metrics/_classification.py:1344: UndefinedMetricWarning: Precision and F-score are ill-defined and being set to 0.0 in labels with no predicted samples. Use `zero_division` parameter to control this behavior.\n",
            "  _warn_prf(average, modifier, msg_start, len(result))\n",
            "/usr/local/lib/python3.10/dist-packages/sklearn/metrics/_classification.py:1344: UndefinedMetricWarning: Precision and F-score are ill-defined and being set to 0.0 in labels with no predicted samples. Use `zero_division` parameter to control this behavior.\n",
            "  _warn_prf(average, modifier, msg_start, len(result))\n"
          ]
        }
      ]
    },
    {
      "cell_type": "markdown",
      "metadata": {
        "id": "c69etl3I4xEh"
      },
      "source": [
        "# Evaluation Part 3\n",
        "### Append my custom dataset into the mnist set to see if training together could improve the accuracy on my custom datset\n",
        "\n",
        "\n"
      ]
    },
    {
      "cell_type": "code",
      "execution_count": 154,
      "metadata": {
        "id": "WPJfh2MB5pk5"
      },
      "outputs": [],
      "source": [
        "np.save('custom_X.npy',X_4D)\n",
        "np.save('custom_y.npy',y_OneHot)\n",
        "custom_X=np.load('custom_X.npy')\n",
        "custom_y=np.load('custom_y.npy')"
      ]
    },
    {
      "cell_type": "code",
      "execution_count": 155,
      "metadata": {
        "colab": {
          "base_uri": "https://localhost:8080/",
          "height": 0
        },
        "id": "YgA33dj46lzG",
        "outputId": "90004482-9fce-4325-9c04-75538fa56fcb"
      },
      "outputs": [
        {
          "output_type": "execute_result",
          "data": {
            "text/plain": [
              "(30, 28, 28, 1)"
            ]
          },
          "metadata": {},
          "execution_count": 155
        }
      ],
      "source": [
        "custom_X.shape"
      ]
    },
    {
      "cell_type": "code",
      "execution_count": 156,
      "metadata": {
        "colab": {
          "base_uri": "https://localhost:8080/",
          "height": 0
        },
        "id": "IvtGCgEn6mTC",
        "outputId": "a97ebae2-2ae0-45a0-ced6-73fe5c7336bd"
      },
      "outputs": [
        {
          "output_type": "execute_result",
          "data": {
            "text/plain": [
              "(30, 10)"
            ]
          },
          "metadata": {},
          "execution_count": 156
        }
      ],
      "source": [
        "custom_y.shape"
      ]
    },
    {
      "cell_type": "code",
      "execution_count": 157,
      "metadata": {
        "colab": {
          "base_uri": "https://localhost:8080/",
          "height": 0
        },
        "id": "tulqnxwH7M6O",
        "outputId": "410d6c1a-f623-428b-c71a-d2fe3fa38459"
      },
      "outputs": [
        {
          "output_type": "execute_result",
          "data": {
            "text/plain": [
              "array([0., 0., 0., 0., 0., 0., 1., 0., 0., 0.], dtype=float32)"
            ]
          },
          "metadata": {},
          "execution_count": 157
        }
      ],
      "source": [
        "custom_y[0]"
      ]
    },
    {
      "cell_type": "code",
      "execution_count": 158,
      "metadata": {
        "id": "y0cyDYoY4yn5"
      },
      "outputs": [],
      "source": [
        "# Append custom dataset into mnist\n",
        "from sklearn.model_selection import train_test_split\n",
        "\n",
        "(c_X_train,c_X_test,c_y_train,c_y_test)=train_test_split(custom_X, custom_y, test_size=0.2,random_state=42)"
      ]
    },
    {
      "cell_type": "code",
      "execution_count": 159,
      "metadata": {
        "id": "UDw3Ul4Z6FbS"
      },
      "outputs": [],
      "source": [
        "X_train_new=np.concatenate((X_train4D,c_X_train),axis=0)"
      ]
    },
    {
      "cell_type": "code",
      "execution_count": 160,
      "metadata": {
        "colab": {
          "base_uri": "https://localhost:8080/",
          "height": 0
        },
        "id": "lsx5SLA671J0",
        "outputId": "3e073ebb-b5c8-4d58-b99b-74744cb4fe81"
      },
      "outputs": [
        {
          "output_type": "execute_result",
          "data": {
            "text/plain": [
              "(60024, 28, 28, 1)"
            ]
          },
          "metadata": {},
          "execution_count": 160
        }
      ],
      "source": [
        "X_train_new.shape"
      ]
    },
    {
      "cell_type": "code",
      "execution_count": 161,
      "metadata": {
        "id": "L94Uu7DT74IL"
      },
      "outputs": [],
      "source": [
        "# Joining as new training set and testing set\n",
        "X_test_new=np.concatenate((X_test4D,c_X_test),axis=0)\n",
        "y_train_new=np.concatenate((y_trainOneHot,c_y_train),axis=0)\n",
        "y_test_new=np.concatenate((y_testOneHot,c_y_test),axis=0)"
      ]
    },
    {
      "cell_type": "code",
      "source": [
        "model.fit(x=X_train_new,\n",
        "          y=y_train_new,\n",
        "          validation_split=0.2,\n",
        "          epochs=5,batch_size=1000)"
      ],
      "metadata": {
        "colab": {
          "base_uri": "https://localhost:8080/",
          "height": 0
        },
        "id": "8_g7F590zmUe",
        "outputId": "aef26449-682b-4421-d7c9-57d36a17fbd4"
      },
      "execution_count": 162,
      "outputs": [
        {
          "output_type": "stream",
          "name": "stdout",
          "text": [
            "Epoch 1/5\n",
            "49/49 [==============================] - 1s 23ms/step - loss: 0.0140 - accuracy: 0.9956 - val_loss: 0.0405 - val_accuracy: 0.9892\n",
            "Epoch 2/5\n",
            "49/49 [==============================] - 1s 15ms/step - loss: 0.0092 - accuracy: 0.9975 - val_loss: 0.0407 - val_accuracy: 0.9890\n",
            "Epoch 3/5\n",
            "49/49 [==============================] - 1s 15ms/step - loss: 0.0079 - accuracy: 0.9979 - val_loss: 0.0413 - val_accuracy: 0.9898\n",
            "Epoch 4/5\n",
            "49/49 [==============================] - 1s 17ms/step - loss: 0.0071 - accuracy: 0.9982 - val_loss: 0.0421 - val_accuracy: 0.9895\n",
            "Epoch 5/5\n",
            "49/49 [==============================] - 1s 18ms/step - loss: 0.0068 - accuracy: 0.9980 - val_loss: 0.0427 - val_accuracy: 0.9898\n"
          ]
        },
        {
          "output_type": "execute_result",
          "data": {
            "text/plain": [
              "<keras.callbacks.History at 0x7fc0a641b1c0>"
            ]
          },
          "metadata": {},
          "execution_count": 162
        }
      ]
    },
    {
      "cell_type": "code",
      "source": [
        "model.evaluate(X_4D,y_OneHot) "
      ],
      "metadata": {
        "colab": {
          "base_uri": "https://localhost:8080/",
          "height": 0
        },
        "id": "n3fdgsAJz60z",
        "outputId": "853c6a5b-f3de-4949-cd48-1f4fcd04d956"
      },
      "execution_count": 163,
      "outputs": [
        {
          "output_type": "stream",
          "name": "stdout",
          "text": [
            "1/1 [==============================] - 0s 37ms/step - loss: 4.3140 - accuracy: 0.2000\n"
          ]
        },
        {
          "output_type": "execute_result",
          "data": {
            "text/plain": [
              "[4.31402587890625, 0.20000000298023224]"
            ]
          },
          "metadata": {},
          "execution_count": 163
        }
      ]
    },
    {
      "cell_type": "markdown",
      "source": [
        "After including my custom dataset into training, the accuracy of evalutaion on my custom dataset is lower. So given the size of my custom dataset, it is insignificant for the model to learn enough features, even though my hand written digits are included in the training."
      ],
      "metadata": {
        "id": "16B2q3S7xxYQ"
      }
    },
    {
      "cell_type": "code",
      "source": [
        "model2.fit(x=X_train_new,\n",
        "          y=y_train_new,\n",
        "          validation_split=0.2,\n",
        "          epochs=5,batch_size=1000)"
      ],
      "metadata": {
        "colab": {
          "base_uri": "https://localhost:8080/",
          "height": 0
        },
        "id": "p_gYSQr2zEsX",
        "outputId": "825aa780-0db4-4ba1-ab25-552c74a36bc1"
      },
      "execution_count": 165,
      "outputs": [
        {
          "output_type": "stream",
          "name": "stdout",
          "text": [
            "Epoch 1/5\n",
            "49/49 [==============================] - 1s 20ms/step - loss: 0.0082 - accuracy: 0.9984 - val_loss: 0.0508 - val_accuracy: 0.9883\n",
            "Epoch 2/5\n",
            "49/49 [==============================] - 1s 16ms/step - loss: 0.0056 - accuracy: 0.9991 - val_loss: 0.0502 - val_accuracy: 0.9883\n",
            "Epoch 3/5\n",
            "49/49 [==============================] - 1s 19ms/step - loss: 0.0047 - accuracy: 0.9994 - val_loss: 0.0500 - val_accuracy: 0.9886\n",
            "Epoch 4/5\n",
            "49/49 [==============================] - 1s 17ms/step - loss: 0.0043 - accuracy: 0.9996 - val_loss: 0.0503 - val_accuracy: 0.9888\n",
            "Epoch 5/5\n",
            "49/49 [==============================] - 1s 17ms/step - loss: 0.0041 - accuracy: 0.9996 - val_loss: 0.0505 - val_accuracy: 0.9885\n"
          ]
        },
        {
          "output_type": "execute_result",
          "data": {
            "text/plain": [
              "<keras.callbacks.History at 0x7fc09f7ac2b0>"
            ]
          },
          "metadata": {},
          "execution_count": 165
        }
      ]
    },
    {
      "cell_type": "code",
      "source": [
        "model2.evaluate(X_4D,y_OneHot)  "
      ],
      "metadata": {
        "colab": {
          "base_uri": "https://localhost:8080/",
          "height": 0
        },
        "id": "wp2Lm_6ZzEz-",
        "outputId": "4ebe2dd8-c15d-4a2c-e01e-9595e3ee78a5"
      },
      "execution_count": 166,
      "outputs": [
        {
          "output_type": "stream",
          "name": "stdout",
          "text": [
            "1/1 [==============================] - 0s 28ms/step - loss: 8.8984 - accuracy: 0.1000\n"
          ]
        },
        {
          "output_type": "execute_result",
          "data": {
            "text/plain": [
              "[8.898370742797852, 0.10000000149011612]"
            ]
          },
          "metadata": {},
          "execution_count": 166
        }
      ]
    },
    {
      "cell_type": "markdown",
      "source": [
        "Same as model 1 evaluation above, the accuracy is not improving with model 2"
      ],
      "metadata": {
        "id": "fRN9USXV0ZqA"
      }
    },
    {
      "cell_type": "code",
      "source": [
        "# model 3 evaluation\n",
        "model3.fit(x=X_train_new,\n",
        "          y=y_train_new,\n",
        "          validation_split=0.2,\n",
        "          epochs=5,batch_size=100)"
      ],
      "metadata": {
        "colab": {
          "base_uri": "https://localhost:8080/",
          "height": 0
        },
        "id": "uAUKbFM-yG2i",
        "outputId": "a3c70fc2-dabf-42c2-acf4-7944ee685253"
      },
      "execution_count": 167,
      "outputs": [
        {
          "output_type": "stream",
          "name": "stdout",
          "text": [
            "Epoch 1/5\n",
            "481/481 [==============================] - 3s 6ms/step - loss: 0.0532 - accuracy: 0.9830 - val_loss: 0.0453 - val_accuracy: 0.9884\n",
            "Epoch 2/5\n",
            "481/481 [==============================] - 3s 6ms/step - loss: 0.0463 - accuracy: 0.9856 - val_loss: 0.0448 - val_accuracy: 0.9875\n",
            "Epoch 3/5\n",
            "481/481 [==============================] - 3s 7ms/step - loss: 0.0419 - accuracy: 0.9862 - val_loss: 0.0392 - val_accuracy: 0.9883\n",
            "Epoch 4/5\n",
            "481/481 [==============================] - 3s 6ms/step - loss: 0.0379 - accuracy: 0.9868 - val_loss: 0.0396 - val_accuracy: 0.9896\n",
            "Epoch 5/5\n",
            "481/481 [==============================] - 2s 5ms/step - loss: 0.0371 - accuracy: 0.9878 - val_loss: 0.0371 - val_accuracy: 0.9893\n"
          ]
        },
        {
          "output_type": "execute_result",
          "data": {
            "text/plain": [
              "<keras.callbacks.History at 0x7fc09f6c97b0>"
            ]
          },
          "metadata": {},
          "execution_count": 167
        }
      ]
    },
    {
      "cell_type": "code",
      "execution_count": 168,
      "metadata": {
        "id": "nH9Dl-Iy-TXi",
        "colab": {
          "base_uri": "https://localhost:8080/",
          "height": 0
        },
        "outputId": "7270f62e-b80c-4373-abe6-89fd84e4ffba"
      },
      "outputs": [
        {
          "output_type": "stream",
          "name": "stdout",
          "text": [
            "1/1 [==============================] - 0s 24ms/step - loss: 3.5885 - accuracy: 0.1000\n"
          ]
        },
        {
          "output_type": "execute_result",
          "data": {
            "text/plain": [
              "[3.5885255336761475, 0.10000000149011612]"
            ]
          },
          "metadata": {},
          "execution_count": 168
        }
      ],
      "source": [
        "model3.evaluate(X_4D,y_OneHot)"
      ]
    },
    {
      "cell_type": "markdown",
      "source": [
        "# Conclusion\n",
        "In this report, I trained three CNN models with similar achitecture to see how they perform on MNIST dataset and evaluate the model performance with my handwritten digit. \n",
        "\n",
        "The three models share similar architecture. The small difference is that the first model uses ReLU as activation function in the hidden layers, while the second one uses tanh. The third model uses ReLU as activation function but dropout layers are added within the model architecture with the expectation to imporove any fitting problem. \n",
        "\n",
        "However, evaluation of the three models does not perform well on my custom dataset. It is probably due to the poor quality of picture taken and it is different from the digit dataset in the MNIST dataset. Hence the features learnt by the models failed to perform as well as in testing against its own testing set from the MNIST dataset.\n",
        "\n",
        "After that, I tried to include my custom dataset into the training process of the three model. Surprisingly, the first model has a performance boost on evaluating on my custom dataset. Also, increasing the epoch size has improved the performance as well. Nevertheless, the improvement is not captured in model 2 and model 3, while I was expecting model 3 would have performed better with the dropout layer. Furthermore, my custom dataset size is so small for the model to learn features and generate accurate prediction.Given the time constraint and knowledge, I could not proceed to look into the reason model 3 has such a differentiation from theory. \n",
        "\n",
        "For further study in the CNN, the activation function at the last layer would be of interested to tune around. Since in this report, I use softmax in the fully connected layer and it is the most popular activation choice of the last layer due to the normalization of class probablity. \n",
        "\n",
        "Data augmentation shall be further explored as well. Since my custom dataset has different features such as thickness of the digit while the MNIST dataset has much thinker line. It exposed one of the disadvantage of the CNN, which is vulnerable to detecting thickness and rotation. In order to build a more robust model, more all-rounded understanding on deep learning concept and relevant hyperparameter in model building is required, such as optimize the training process by minimizing the loss as small as possible, which I fail to solve the issue in this report."
      ],
      "metadata": {
        "id": "laQpdFoT41r9"
      }
    },
    {
      "cell_type": "code",
      "source": [],
      "metadata": {
        "id": "HKGBK_EJ4kPu"
      },
      "execution_count": 168,
      "outputs": []
    }
  ],
  "metadata": {
    "accelerator": "GPU",
    "colab": {
      "provenance": [],
      "gpuType": "T4",
      "include_colab_link": true
    },
    "kernelspec": {
      "display_name": "Python 3",
      "name": "python3"
    },
    "language_info": {
      "name": "python"
    }
  },
  "nbformat": 4,
  "nbformat_minor": 0
}